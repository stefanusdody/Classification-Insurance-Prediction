{
 "cells": [
  {
   "cell_type": "markdown",
   "id": "c2135dae",
   "metadata": {},
   "source": [
    "# Introduction"
   ]
  },
  {
   "cell_type": "markdown",
   "id": "9c340279",
   "metadata": {},
   "source": [
    "#### Dataset :\n",
    "\n",
    "* Dataset pertama mengenai data asuransi\n",
    "* Dataset kedua mengenai data galaxy"
   ]
  },
  {
   "cell_type": "markdown",
   "id": "6ef8b07e",
   "metadata": {},
   "source": [
    "#### Sumber Dataset:\n",
    "\n",
    "* dataset biaya asuransi menggunakan dataset berasl dari: https://www.kaggle.com/mirichoi0218/insurance?select=insurance.csv\n",
    "* dataset data galaxy menggunakan dataset berasl dari: https://raw.githubusercontent.com/fahmimnalfrzki/Dataset/main/GalaxyMorphology.csv"
   ]
  },
  {
   "cell_type": "markdown",
   "id": "4265c393",
   "metadata": {},
   "source": [
    "#### Objective yang ingin dicapai:\n",
    "\n",
    "* memprediksi biaya asuransi\n",
    "* mengklasifikasikan tipe galaksi"
   ]
  },
  {
   "cell_type": "markdown",
   "id": "82534678",
   "metadata": {},
   "source": [
    "# Import Pustaka"
   ]
  },
  {
   "cell_type": "code",
   "execution_count": 1,
   "id": "dee87a69",
   "metadata": {},
   "outputs": [],
   "source": [
    "import pandas as pd\n",
    "import numpy as np\n",
    "import matplotlib.pyplot as plt\n",
    "import seaborn as sns\n",
    "\n",
    "%matplotlib inline"
   ]
  },
  {
   "cell_type": "markdown",
   "id": "af5a04d2",
   "metadata": {},
   "source": [
    "# Regression"
   ]
  },
  {
   "cell_type": "markdown",
   "id": "85ff40bf",
   "metadata": {},
   "source": [
    "# Data Loading"
   ]
  },
  {
   "cell_type": "code",
   "execution_count": 2,
   "id": "85a76932",
   "metadata": {},
   "outputs": [],
   "source": [
    "data = pd.read_csv('insurance.csv')"
   ]
  },
  {
   "cell_type": "code",
   "execution_count": 3,
   "id": "9128304f",
   "metadata": {},
   "outputs": [
    {
     "data": {
      "text/html": [
       "<div>\n",
       "<style scoped>\n",
       "    .dataframe tbody tr th:only-of-type {\n",
       "        vertical-align: middle;\n",
       "    }\n",
       "\n",
       "    .dataframe tbody tr th {\n",
       "        vertical-align: top;\n",
       "    }\n",
       "\n",
       "    .dataframe thead th {\n",
       "        text-align: right;\n",
       "    }\n",
       "</style>\n",
       "<table border=\"1\" class=\"dataframe\">\n",
       "  <thead>\n",
       "    <tr style=\"text-align: right;\">\n",
       "      <th></th>\n",
       "      <th>age</th>\n",
       "      <th>sex</th>\n",
       "      <th>bmi</th>\n",
       "      <th>children</th>\n",
       "      <th>smoker</th>\n",
       "      <th>region</th>\n",
       "      <th>charges</th>\n",
       "    </tr>\n",
       "  </thead>\n",
       "  <tbody>\n",
       "    <tr>\n",
       "      <th>0</th>\n",
       "      <td>19</td>\n",
       "      <td>female</td>\n",
       "      <td>27.900</td>\n",
       "      <td>0</td>\n",
       "      <td>yes</td>\n",
       "      <td>southwest</td>\n",
       "      <td>16884.92400</td>\n",
       "    </tr>\n",
       "    <tr>\n",
       "      <th>1</th>\n",
       "      <td>18</td>\n",
       "      <td>male</td>\n",
       "      <td>33.770</td>\n",
       "      <td>1</td>\n",
       "      <td>no</td>\n",
       "      <td>southeast</td>\n",
       "      <td>1725.55230</td>\n",
       "    </tr>\n",
       "    <tr>\n",
       "      <th>2</th>\n",
       "      <td>28</td>\n",
       "      <td>male</td>\n",
       "      <td>33.000</td>\n",
       "      <td>3</td>\n",
       "      <td>no</td>\n",
       "      <td>southeast</td>\n",
       "      <td>4449.46200</td>\n",
       "    </tr>\n",
       "    <tr>\n",
       "      <th>3</th>\n",
       "      <td>33</td>\n",
       "      <td>male</td>\n",
       "      <td>22.705</td>\n",
       "      <td>0</td>\n",
       "      <td>no</td>\n",
       "      <td>northwest</td>\n",
       "      <td>21984.47061</td>\n",
       "    </tr>\n",
       "    <tr>\n",
       "      <th>4</th>\n",
       "      <td>32</td>\n",
       "      <td>male</td>\n",
       "      <td>28.880</td>\n",
       "      <td>0</td>\n",
       "      <td>no</td>\n",
       "      <td>northwest</td>\n",
       "      <td>3866.85520</td>\n",
       "    </tr>\n",
       "  </tbody>\n",
       "</table>\n",
       "</div>"
      ],
      "text/plain": [
       "   age     sex     bmi  children smoker     region      charges\n",
       "0   19  female  27.900         0    yes  southwest  16884.92400\n",
       "1   18    male  33.770         1     no  southeast   1725.55230\n",
       "2   28    male  33.000         3     no  southeast   4449.46200\n",
       "3   33    male  22.705         0     no  northwest  21984.47061\n",
       "4   32    male  28.880         0     no  northwest   3866.85520"
      ]
     },
     "execution_count": 3,
     "metadata": {},
     "output_type": "execute_result"
    }
   ],
   "source": [
    "data.head()"
   ]
  },
  {
   "cell_type": "code",
   "execution_count": 4,
   "id": "c5a0c6e2",
   "metadata": {},
   "outputs": [
    {
     "data": {
      "text/html": [
       "<div>\n",
       "<style scoped>\n",
       "    .dataframe tbody tr th:only-of-type {\n",
       "        vertical-align: middle;\n",
       "    }\n",
       "\n",
       "    .dataframe tbody tr th {\n",
       "        vertical-align: top;\n",
       "    }\n",
       "\n",
       "    .dataframe thead th {\n",
       "        text-align: right;\n",
       "    }\n",
       "</style>\n",
       "<table border=\"1\" class=\"dataframe\">\n",
       "  <thead>\n",
       "    <tr style=\"text-align: right;\">\n",
       "      <th></th>\n",
       "      <th>age</th>\n",
       "      <th>sex</th>\n",
       "      <th>bmi</th>\n",
       "      <th>children</th>\n",
       "      <th>smoker</th>\n",
       "      <th>region</th>\n",
       "      <th>charges</th>\n",
       "    </tr>\n",
       "  </thead>\n",
       "  <tbody>\n",
       "    <tr>\n",
       "      <th>1333</th>\n",
       "      <td>50</td>\n",
       "      <td>male</td>\n",
       "      <td>30.97</td>\n",
       "      <td>3</td>\n",
       "      <td>no</td>\n",
       "      <td>northwest</td>\n",
       "      <td>10600.5483</td>\n",
       "    </tr>\n",
       "    <tr>\n",
       "      <th>1334</th>\n",
       "      <td>18</td>\n",
       "      <td>female</td>\n",
       "      <td>31.92</td>\n",
       "      <td>0</td>\n",
       "      <td>no</td>\n",
       "      <td>northeast</td>\n",
       "      <td>2205.9808</td>\n",
       "    </tr>\n",
       "    <tr>\n",
       "      <th>1335</th>\n",
       "      <td>18</td>\n",
       "      <td>female</td>\n",
       "      <td>36.85</td>\n",
       "      <td>0</td>\n",
       "      <td>no</td>\n",
       "      <td>southeast</td>\n",
       "      <td>1629.8335</td>\n",
       "    </tr>\n",
       "    <tr>\n",
       "      <th>1336</th>\n",
       "      <td>21</td>\n",
       "      <td>female</td>\n",
       "      <td>25.80</td>\n",
       "      <td>0</td>\n",
       "      <td>no</td>\n",
       "      <td>southwest</td>\n",
       "      <td>2007.9450</td>\n",
       "    </tr>\n",
       "    <tr>\n",
       "      <th>1337</th>\n",
       "      <td>61</td>\n",
       "      <td>female</td>\n",
       "      <td>29.07</td>\n",
       "      <td>0</td>\n",
       "      <td>yes</td>\n",
       "      <td>northwest</td>\n",
       "      <td>29141.3603</td>\n",
       "    </tr>\n",
       "  </tbody>\n",
       "</table>\n",
       "</div>"
      ],
      "text/plain": [
       "      age     sex    bmi  children smoker     region     charges\n",
       "1333   50    male  30.97         3     no  northwest  10600.5483\n",
       "1334   18  female  31.92         0     no  northeast   2205.9808\n",
       "1335   18  female  36.85         0     no  southeast   1629.8335\n",
       "1336   21  female  25.80         0     no  southwest   2007.9450\n",
       "1337   61  female  29.07         0    yes  northwest  29141.3603"
      ]
     },
     "execution_count": 4,
     "metadata": {},
     "output_type": "execute_result"
    }
   ],
   "source": [
    "data.tail()"
   ]
  },
  {
   "cell_type": "code",
   "execution_count": 5,
   "id": "12481b43",
   "metadata": {},
   "outputs": [
    {
     "name": "stdout",
     "output_type": "stream",
     "text": [
      "<class 'pandas.core.frame.DataFrame'>\n",
      "RangeIndex: 1338 entries, 0 to 1337\n",
      "Data columns (total 7 columns):\n",
      " #   Column    Non-Null Count  Dtype  \n",
      "---  ------    --------------  -----  \n",
      " 0   age       1338 non-null   int64  \n",
      " 1   sex       1338 non-null   object \n",
      " 2   bmi       1338 non-null   float64\n",
      " 3   children  1338 non-null   int64  \n",
      " 4   smoker    1338 non-null   object \n",
      " 5   region    1338 non-null   object \n",
      " 6   charges   1338 non-null   float64\n",
      "dtypes: float64(2), int64(2), object(3)\n",
      "memory usage: 73.3+ KB\n"
     ]
    }
   ],
   "source": [
    "data.info()"
   ]
  },
  {
   "cell_type": "code",
   "execution_count": 6,
   "id": "f096e898",
   "metadata": {},
   "outputs": [
    {
     "data": {
      "text/plain": [
       "Index(['age', 'sex', 'bmi', 'children', 'smoker', 'region', 'charges'], dtype='object')"
      ]
     },
     "execution_count": 6,
     "metadata": {},
     "output_type": "execute_result"
    }
   ],
   "source": [
    "data.columns"
   ]
  },
  {
   "cell_type": "code",
   "execution_count": 7,
   "id": "6f3e3f9c",
   "metadata": {},
   "outputs": [
    {
     "data": {
      "text/html": [
       "<div>\n",
       "<style scoped>\n",
       "    .dataframe tbody tr th:only-of-type {\n",
       "        vertical-align: middle;\n",
       "    }\n",
       "\n",
       "    .dataframe tbody tr th {\n",
       "        vertical-align: top;\n",
       "    }\n",
       "\n",
       "    .dataframe thead th {\n",
       "        text-align: right;\n",
       "    }\n",
       "</style>\n",
       "<table border=\"1\" class=\"dataframe\">\n",
       "  <thead>\n",
       "    <tr style=\"text-align: right;\">\n",
       "      <th></th>\n",
       "      <th>age</th>\n",
       "      <th>bmi</th>\n",
       "      <th>children</th>\n",
       "      <th>charges</th>\n",
       "    </tr>\n",
       "  </thead>\n",
       "  <tbody>\n",
       "    <tr>\n",
       "      <th>count</th>\n",
       "      <td>1338.000000</td>\n",
       "      <td>1338.000000</td>\n",
       "      <td>1338.000000</td>\n",
       "      <td>1338.000000</td>\n",
       "    </tr>\n",
       "    <tr>\n",
       "      <th>mean</th>\n",
       "      <td>39.207025</td>\n",
       "      <td>30.663397</td>\n",
       "      <td>1.094918</td>\n",
       "      <td>13270.422265</td>\n",
       "    </tr>\n",
       "    <tr>\n",
       "      <th>std</th>\n",
       "      <td>14.049960</td>\n",
       "      <td>6.098187</td>\n",
       "      <td>1.205493</td>\n",
       "      <td>12110.011237</td>\n",
       "    </tr>\n",
       "    <tr>\n",
       "      <th>min</th>\n",
       "      <td>18.000000</td>\n",
       "      <td>15.960000</td>\n",
       "      <td>0.000000</td>\n",
       "      <td>1121.873900</td>\n",
       "    </tr>\n",
       "    <tr>\n",
       "      <th>25%</th>\n",
       "      <td>27.000000</td>\n",
       "      <td>26.296250</td>\n",
       "      <td>0.000000</td>\n",
       "      <td>4740.287150</td>\n",
       "    </tr>\n",
       "    <tr>\n",
       "      <th>50%</th>\n",
       "      <td>39.000000</td>\n",
       "      <td>30.400000</td>\n",
       "      <td>1.000000</td>\n",
       "      <td>9382.033000</td>\n",
       "    </tr>\n",
       "    <tr>\n",
       "      <th>75%</th>\n",
       "      <td>51.000000</td>\n",
       "      <td>34.693750</td>\n",
       "      <td>2.000000</td>\n",
       "      <td>16639.912515</td>\n",
       "    </tr>\n",
       "    <tr>\n",
       "      <th>max</th>\n",
       "      <td>64.000000</td>\n",
       "      <td>53.130000</td>\n",
       "      <td>5.000000</td>\n",
       "      <td>63770.428010</td>\n",
       "    </tr>\n",
       "  </tbody>\n",
       "</table>\n",
       "</div>"
      ],
      "text/plain": [
       "               age          bmi     children       charges\n",
       "count  1338.000000  1338.000000  1338.000000   1338.000000\n",
       "mean     39.207025    30.663397     1.094918  13270.422265\n",
       "std      14.049960     6.098187     1.205493  12110.011237\n",
       "min      18.000000    15.960000     0.000000   1121.873900\n",
       "25%      27.000000    26.296250     0.000000   4740.287150\n",
       "50%      39.000000    30.400000     1.000000   9382.033000\n",
       "75%      51.000000    34.693750     2.000000  16639.912515\n",
       "max      64.000000    53.130000     5.000000  63770.428010"
      ]
     },
     "execution_count": 7,
     "metadata": {},
     "output_type": "execute_result"
    }
   ],
   "source": [
    "data.describe()"
   ]
  },
  {
   "cell_type": "markdown",
   "id": "3b1d621e",
   "metadata": {},
   "source": [
    "# Data Cleaning"
   ]
  },
  {
   "cell_type": "code",
   "execution_count": 8,
   "id": "853273f5",
   "metadata": {},
   "outputs": [
    {
     "data": {
      "text/plain": [
       "age         0\n",
       "sex         0\n",
       "bmi         0\n",
       "children    0\n",
       "smoker      0\n",
       "region      0\n",
       "charges     0\n",
       "dtype: int64"
      ]
     },
     "execution_count": 8,
     "metadata": {},
     "output_type": "execute_result"
    }
   ],
   "source": [
    "data.isna().sum()"
   ]
  },
  {
   "cell_type": "markdown",
   "id": "be1e7ed0",
   "metadata": {},
   "source": [
    "### binning age"
   ]
  },
  {
   "cell_type": "markdown",
   "id": "384dbc87",
   "metadata": {},
   "source": [
    "# Explorasi Data"
   ]
  },
  {
   "cell_type": "code",
   "execution_count": 9,
   "id": "8def2573",
   "metadata": {},
   "outputs": [
    {
     "data": {
      "image/png": "[encoded data removed]",
      "text/plain": [
       "<Figure size 720x360 with 2 Axes>"
      ]
     },
     "metadata": {
      "needs_background": "light"
     },
     "output_type": "display_data"
    }
   ],
   "source": [
    "plt.figure(figsize=(10,5))\n",
    "sns.heatmap(data.corr(), annot=True);"
   ]
  },
  {
   "cell_type": "markdown",
   "id": "9afc4b8b",
   "metadata": {},
   "source": [
    "Dari visaualisasi terlihat bahwa variabel age memiliki relasi positif tertinggi dengan variabel charges yaitu 0.3"
   ]
  },
  {
   "cell_type": "code",
   "execution_count": 61,
   "id": "9fbab27f",
   "metadata": {},
   "outputs": [
    {
     "data": {
      "image/png": "[encoded data removed]",
      "text/plain": [
       "<Figure size 720x360 with 1 Axes>"
      ]
     },
     "metadata": {
      "needs_background": "light"
     },
     "output_type": "display_data"
    }
   ],
   "source": [
    "plt.figure(figsize=(10,5))\n",
    "sns.barplot(x='children', y='charges', data=data);"
   ]
  },
  {
   "cell_type": "markdown",
   "id": "fdc56007",
   "metadata": {},
   "source": [
    "dari visualisasi terlihat bahwa konsumen yang memiliki jumlah anak 2, 3, dan 4 memiliki peluang membayar asuransi lebih besar"
   ]
  },
  {
   "cell_type": "code",
   "execution_count": 10,
   "id": "314b5f2a",
   "metadata": {},
   "outputs": [
    {
     "data": {
      "image/png": "[encoded data removed]",
      "text/plain": [
       "<Figure size 720x360 with 1 Axes>"
      ]
     },
     "metadata": {
      "needs_background": "light"
     },
     "output_type": "display_data"
    }
   ],
   "source": [
    "plt.figure(figsize=(10,5))\n",
    "sns.barplot(x='smoker', y='charges', data=data);"
   ]
  },
  {
   "cell_type": "markdown",
   "id": "01fcd5fb",
   "metadata": {},
   "source": [
    "dari visualisasi terlihat bahwa konsumen perokok membayar biaya asuransi lebih tinggi dari bukan perokok"
   ]
  },
  {
   "cell_type": "code",
   "execution_count": 11,
   "id": "bb19fd5d",
   "metadata": {},
   "outputs": [
    {
     "data": {
      "image/png": "[encoded data removed]",
      "text/plain": [
       "<Figure size 720x360 with 1 Axes>"
      ]
     },
     "metadata": {
      "needs_background": "light"
     },
     "output_type": "display_data"
    }
   ],
   "source": [
    "plt.figure(figsize=(10,5))\n",
    "sns.barplot(x='sex', y='charges', data=data);"
   ]
  },
  {
   "cell_type": "markdown",
   "id": "bd2d00ab",
   "metadata": {},
   "source": [
    "dari visualisasi terlihat bahwa konsumen pria membayar biaya asuransi lebih tinggi dibandingkan konsumen wanita"
   ]
  },
  {
   "cell_type": "code",
   "execution_count": 12,
   "id": "815e5605",
   "metadata": {},
   "outputs": [
    {
     "data": {
      "image/png": "[encoded data removed]",
      "text/plain": [
       "<Figure size 720x360 with 1 Axes>"
      ]
     },
     "metadata": {
      "needs_background": "light"
     },
     "output_type": "display_data"
    }
   ],
   "source": [
    "plt.figure(figsize=(10,5))\n",
    "sns.barplot(x='region', y='charges', data=data);"
   ]
  },
  {
   "cell_type": "markdown",
   "id": "9f6a5290",
   "metadata": {},
   "source": [
    "dari data visualisasi terlihat bahwa konsumen yang tinggal didaerah southeast membayar asuransi tertinggi dibandingkan daerah lainnya"
   ]
  },
  {
   "cell_type": "markdown",
   "id": "0a6f88a0",
   "metadata": {},
   "source": [
    "# Data Preprocessing"
   ]
  },
  {
   "cell_type": "markdown",
   "id": "8526578a",
   "metadata": {},
   "source": [
    "#### Mengubah data categorical menjadi data numeric"
   ]
  },
  {
   "cell_type": "code",
   "execution_count": 13,
   "id": "56ba57f9",
   "metadata": {},
   "outputs": [
    {
     "data": {
      "text/html": [
       "<div>\n",
       "<style scoped>\n",
       "    .dataframe tbody tr th:only-of-type {\n",
       "        vertical-align: middle;\n",
       "    }\n",
       "\n",
       "    .dataframe tbody tr th {\n",
       "        vertical-align: top;\n",
       "    }\n",
       "\n",
       "    .dataframe thead th {\n",
       "        text-align: right;\n",
       "    }\n",
       "</style>\n",
       "<table border=\"1\" class=\"dataframe\">\n",
       "  <thead>\n",
       "    <tr style=\"text-align: right;\">\n",
       "      <th></th>\n",
       "      <th>age</th>\n",
       "      <th>bmi</th>\n",
       "      <th>children</th>\n",
       "      <th>charges</th>\n",
       "      <th>sex_male</th>\n",
       "      <th>smoker_yes</th>\n",
       "      <th>region_northwest</th>\n",
       "      <th>region_southeast</th>\n",
       "      <th>region_southwest</th>\n",
       "    </tr>\n",
       "  </thead>\n",
       "  <tbody>\n",
       "    <tr>\n",
       "      <th>0</th>\n",
       "      <td>19</td>\n",
       "      <td>27.900</td>\n",
       "      <td>0</td>\n",
       "      <td>16884.92400</td>\n",
       "      <td>0</td>\n",
       "      <td>1</td>\n",
       "      <td>0</td>\n",
       "      <td>0</td>\n",
       "      <td>1</td>\n",
       "    </tr>\n",
       "    <tr>\n",
       "      <th>1</th>\n",
       "      <td>18</td>\n",
       "      <td>33.770</td>\n",
       "      <td>1</td>\n",
       "      <td>1725.55230</td>\n",
       "      <td>1</td>\n",
       "      <td>0</td>\n",
       "      <td>0</td>\n",
       "      <td>1</td>\n",
       "      <td>0</td>\n",
       "    </tr>\n",
       "    <tr>\n",
       "      <th>2</th>\n",
       "      <td>28</td>\n",
       "      <td>33.000</td>\n",
       "      <td>3</td>\n",
       "      <td>4449.46200</td>\n",
       "      <td>1</td>\n",
       "      <td>0</td>\n",
       "      <td>0</td>\n",
       "      <td>1</td>\n",
       "      <td>0</td>\n",
       "    </tr>\n",
       "    <tr>\n",
       "      <th>3</th>\n",
       "      <td>33</td>\n",
       "      <td>22.705</td>\n",
       "      <td>0</td>\n",
       "      <td>21984.47061</td>\n",
       "      <td>1</td>\n",
       "      <td>0</td>\n",
       "      <td>1</td>\n",
       "      <td>0</td>\n",
       "      <td>0</td>\n",
       "    </tr>\n",
       "    <tr>\n",
       "      <th>4</th>\n",
       "      <td>32</td>\n",
       "      <td>28.880</td>\n",
       "      <td>0</td>\n",
       "      <td>3866.85520</td>\n",
       "      <td>1</td>\n",
       "      <td>0</td>\n",
       "      <td>1</td>\n",
       "      <td>0</td>\n",
       "      <td>0</td>\n",
       "    </tr>\n",
       "  </tbody>\n",
       "</table>\n",
       "</div>"
      ],
      "text/plain": [
       "   age     bmi  children      charges  sex_male  smoker_yes  region_northwest  \\\n",
       "0   19  27.900         0  16884.92400         0           1                 0   \n",
       "1   18  33.770         1   1725.55230         1           0                 0   \n",
       "2   28  33.000         3   4449.46200         1           0                 0   \n",
       "3   33  22.705         0  21984.47061         1           0                 1   \n",
       "4   32  28.880         0   3866.85520         1           0                 1   \n",
       "\n",
       "   region_southeast  region_southwest  \n",
       "0                 0                 1  \n",
       "1                 1                 0  \n",
       "2                 1                 0  \n",
       "3                 0                 0  \n",
       "4                 0                 0  "
      ]
     },
     "execution_count": 13,
     "metadata": {},
     "output_type": "execute_result"
    }
   ],
   "source": [
    "data = pd.get_dummies(data, drop_first=True)\n",
    "data.head()"
   ]
  },
  {
   "cell_type": "markdown",
   "id": "3de90c03",
   "metadata": {},
   "source": [
    "mengubah data categorical pada variabel 'sex' , 'smoker' dan 'region' menjadi data numeric"
   ]
  },
  {
   "cell_type": "markdown",
   "id": "6cd22fae",
   "metadata": {},
   "source": [
    "#### Menentukan variabel independent (X) dan varibel dependent (y)"
   ]
  },
  {
   "cell_type": "code",
   "execution_count": 14,
   "id": "048c63eb",
   "metadata": {},
   "outputs": [],
   "source": [
    "X = data.drop('charges', axis=1)\n",
    "y = data['charges']"
   ]
  },
  {
   "cell_type": "markdown",
   "id": "f28ade92",
   "metadata": {},
   "source": [
    "#### Import Pustaka"
   ]
  },
  {
   "cell_type": "code",
   "execution_count": 15,
   "id": "df33638d",
   "metadata": {},
   "outputs": [],
   "source": [
    "from sklearn.linear_model import LinearRegression\n",
    "from sklearn.preprocessing import StandardScaler\n",
    "from sklearn.model_selection import train_test_split"
   ]
  },
  {
   "cell_type": "markdown",
   "id": "9bd89f03",
   "metadata": {},
   "source": [
    "#### Split Data"
   ]
  },
  {
   "cell_type": "code",
   "execution_count": 16,
   "id": "79da25c0",
   "metadata": {},
   "outputs": [],
   "source": [
    "X_train, X_test, y_train, y_test = train_test_split(X,y, test_size=0.3, random_state=42)"
   ]
  },
  {
   "cell_type": "markdown",
   "id": "3b150295",
   "metadata": {},
   "source": [
    "melakukan split data training sebesar 0.7 dan data test 0.3"
   ]
  },
  {
   "cell_type": "markdown",
   "id": "bb550a8b",
   "metadata": {},
   "source": [
    "#### Melakukan Regularisasi data "
   ]
  },
  {
   "cell_type": "code",
   "execution_count": 17,
   "id": "9f4c7707",
   "metadata": {},
   "outputs": [],
   "source": [
    "scaler = StandardScaler()\n",
    "scaler.fit(X_train)\n",
    "X_train_trf = scaler.transform(X_train)\n",
    "X_test_trf = scaler.transform(X_test)"
   ]
  },
  {
   "cell_type": "markdown",
   "id": "2bd1943d",
   "metadata": {},
   "source": [
    "# Pendefinisian dan Pelatihan Model"
   ]
  },
  {
   "cell_type": "code",
   "execution_count": 18,
   "id": "d17b2f40",
   "metadata": {},
   "outputs": [],
   "source": [
    "linear_model = LinearRegression(fit_intercept=True)\n",
    "\n",
    "%time linear_model.fit(X_train_trf, y_train)"
   ]
  },
  {
   "cell_type": "markdown",
   "id": "08f1268d",
   "metadata": {},
   "source": [
    "Pemilihan Model Regression disebabkan karena objective yang ingin dicapai adalah melakukan prediksi terhadap biaya asuransi"
   ]
  },
  {
   "cell_type": "markdown",
   "id": "23a18a61",
   "metadata": {},
   "source": [
    "# Evaluasi Model"
   ]
  },
  {
   "cell_type": "markdown",
   "id": "dfc5047f",
   "metadata": {},
   "source": [
    "#### Import Pustaka "
   ]
  },
  {
   "cell_type": "code",
   "execution_count": 20,
   "id": "ad84fe8f",
   "metadata": {},
   "outputs": [],
   "source": [
    "from sklearn.metrics import r2_score, mean_absolute_error, mean_squared_error"
   ]
  },
  {
   "cell_type": "code",
   "execution_count": 21,
   "id": "20003414",
   "metadata": {},
   "outputs": [
    {
     "name": "stdout",
     "output_type": "stream",
     "text": [
      "CPU times: user 502 µs, sys: 29 µs, total: 531 µs\n",
      "Wall time: 574 µs\n"
     ]
    }
   ],
   "source": [
    "%time y_preds = linear_model.predict(X_test_trf)"
   ]
  },
  {
   "cell_type": "code",
   "execution_count": 22,
   "id": "3b9983ff",
   "metadata": {},
   "outputs": [
    {
     "data": {
      "text/plain": [
       "0.7696118054369009"
      ]
     },
     "execution_count": 22,
     "metadata": {},
     "output_type": "execute_result"
    }
   ],
   "source": [
    "linear_model.score(X_test_trf, y_test)"
   ]
  },
  {
   "cell_type": "code",
   "execution_count": 23,
   "id": "00f921cb",
   "metadata": {},
   "outputs": [
    {
     "data": {
      "text/plain": [
       "0.742398009060026"
      ]
     },
     "execution_count": 23,
     "metadata": {},
     "output_type": "execute_result"
    }
   ],
   "source": [
    "linear_model.score(X_train_trf, y_train)"
   ]
  },
  {
   "cell_type": "markdown",
   "id": "e5dda57e",
   "metadata": {},
   "source": [
    "#### Regression metrics"
   ]
  },
  {
   "cell_type": "code",
   "execution_count": 24,
   "id": "fe0b8d06",
   "metadata": {},
   "outputs": [
    {
     "name": "stdout",
     "output_type": "stream",
     "text": [
      "R2_score:  0.7696118054369009\n",
      "MAE:  4145.4505556276\n",
      "MSE:  33780509.57479167\n",
      "RMSE:  64.385173414596\n"
     ]
    }
   ],
   "source": [
    "R2_Score = r2_score(y_test, y_preds)\n",
    "MAE = mean_absolute_error(y_test, y_preds)\n",
    "MSE = mean_squared_error(y_test, y_preds)\n",
    "RMSE = np.sqrt(mean_absolute_error(y_test, y_preds))\n",
    "\n",
    "print('R2_score: ',R2_Score )\n",
    "print('MAE: ', MAE )\n",
    "print('MSE: ', MSE )\n",
    "print('RMSE: ', RMSE )"
   ]
  },
  {
   "cell_type": "markdown",
   "id": "6949a6d8",
   "metadata": {},
   "source": [
    "#### Visualisasi"
   ]
  },
  {
   "cell_type": "code",
   "execution_count": 25,
   "id": "b2e4738e",
   "metadata": {},
   "outputs": [],
   "source": [
    "y_preds_linear = linear_model.predict(X)"
   ]
  },
  {
   "cell_type": "code",
   "execution_count": 26,
   "id": "7d66c6df",
   "metadata": {},
   "outputs": [],
   "source": [
    "data['predicted'] = y_preds_linear"
   ]
  },
  {
   "cell_type": "code",
   "execution_count": 27,
   "id": "4783dda4",
   "metadata": {},
   "outputs": [
    {
     "data": {
      "image/png": "[encoded data removed]",
      "text/plain": [
       "<Figure size 432x288 with 1 Axes>"
      ]
     },
     "metadata": {
      "needs_background": "light"
     },
     "output_type": "display_data"
    }
   ],
   "source": [
    "data[['charges','predicted']].plot(alpha=0.5);"
   ]
  },
  {
   "cell_type": "markdown",
   "id": "db5de473",
   "metadata": {},
   "source": [
    "# Model Inference"
   ]
  },
  {
   "cell_type": "markdown",
   "id": "1cfae705",
   "metadata": {},
   "source": [
    "#### Menggunakan data baru"
   ]
  },
  {
   "cell_type": "code",
   "execution_count": 29,
   "id": "1137b952",
   "metadata": {},
   "outputs": [],
   "source": [
    "dummies = [[45, 35.175, 2, 0, 0, 0, 0, 0]]"
   ]
  },
  {
   "cell_type": "markdown",
   "id": "b7b808b4",
   "metadata": {},
   "source": [
    "#### melakukan prediksi dengan menggunakan data X_test"
   ]
  },
  {
   "cell_type": "code",
   "execution_count": 30,
   "id": "766b3ced",
   "metadata": {},
   "outputs": [
    {
     "data": {
      "text/plain": [
       "array([253944.2968763])"
      ]
     },
     "execution_count": 30,
     "metadata": {},
     "output_type": "execute_result"
    }
   ],
   "source": [
    "linear_model = LinearRegression(fit_intercept=True)\n",
    "%time linear_model.fit(X_train_trf, y_train)\n",
    "\n",
    "prediction = linear_model.predict(dummies)\n",
    "prediction"
   ]
  },
  {
   "cell_type": "markdown",
   "id": "c694913d",
   "metadata": {},
   "source": [
    "# Pengambilan Keputusan"
   ]
  },
  {
   "cell_type": "code",
   "execution_count": 31,
   "id": "acf34992",
   "metadata": {},
   "outputs": [
    {
     "data": {
      "text/plain": [
       "age                 3688.583190\n",
       "bmi                 2090.997834\n",
       "children             514.023604\n",
       "sex_male              52.388681\n",
       "smoker_yes          9595.868167\n",
       "region_northwest    -209.325551\n",
       "region_southeast    -426.262771\n",
       "region_southwest    -394.014449\n",
       "dtype: float64"
      ]
     },
     "execution_count": 31,
     "metadata": {},
     "output_type": "execute_result"
    }
   ],
   "source": [
    "params = pd.Series(linear_model.coef_, index=X.columns )\n",
    "params"
   ]
  },
  {
   "cell_type": "code",
   "execution_count": 32,
   "id": "c9d63130",
   "metadata": {},
   "outputs": [
    {
     "data": {
      "text/html": [
       "<div>\n",
       "<style scoped>\n",
       "    .dataframe tbody tr th:only-of-type {\n",
       "        vertical-align: middle;\n",
       "    }\n",
       "\n",
       "    .dataframe tbody tr th {\n",
       "        vertical-align: top;\n",
       "    }\n",
       "\n",
       "    .dataframe thead th {\n",
       "        text-align: right;\n",
       "    }\n",
       "</style>\n",
       "<table border=\"1\" class=\"dataframe\">\n",
       "  <thead>\n",
       "    <tr style=\"text-align: right;\">\n",
       "      <th></th>\n",
       "      <th>Coefficients</th>\n",
       "    </tr>\n",
       "  </thead>\n",
       "  <tbody>\n",
       "    <tr>\n",
       "      <th>age</th>\n",
       "      <td>3689.0</td>\n",
       "    </tr>\n",
       "    <tr>\n",
       "      <th>bmi</th>\n",
       "      <td>2091.0</td>\n",
       "    </tr>\n",
       "    <tr>\n",
       "      <th>children</th>\n",
       "      <td>514.0</td>\n",
       "    </tr>\n",
       "    <tr>\n",
       "      <th>sex_male</th>\n",
       "      <td>52.0</td>\n",
       "    </tr>\n",
       "    <tr>\n",
       "      <th>smoker_yes</th>\n",
       "      <td>9596.0</td>\n",
       "    </tr>\n",
       "    <tr>\n",
       "      <th>region_northwest</th>\n",
       "      <td>-209.0</td>\n",
       "    </tr>\n",
       "    <tr>\n",
       "      <th>region_southeast</th>\n",
       "      <td>-426.0</td>\n",
       "    </tr>\n",
       "    <tr>\n",
       "      <th>region_southwest</th>\n",
       "      <td>-394.0</td>\n",
       "    </tr>\n",
       "  </tbody>\n",
       "</table>\n",
       "</div>"
      ],
      "text/plain": [
       "                  Coefficients\n",
       "age                     3689.0\n",
       "bmi                     2091.0\n",
       "children                 514.0\n",
       "sex_male                  52.0\n",
       "smoker_yes              9596.0\n",
       "region_northwest        -209.0\n",
       "region_southeast        -426.0\n",
       "region_southwest        -394.0"
      ]
     },
     "execution_count": 32,
     "metadata": {},
     "output_type": "execute_result"
    }
   ],
   "source": [
    "analisis = pd.DataFrame(params.round(0), X.columns, columns=['Coefficients'])\n",
    "analisis"
   ]
  },
  {
   "cell_type": "markdown",
   "id": "f5248cbe",
   "metadata": {},
   "source": [
    "### Pengambilan keputusan berdasarkan dari model analysis:\n",
    "\n",
    "Pemilihan Model Regression disebabkan karena objective yang ingin dicapai adalah melakukan prediksi terhadap biaya asuransi\n",
    "\n",
    "Dengan menggunakan model Linear Regression terdapat beberapa variabel yang memiliki relasi positif terhadap variabel charges, yaitu:\n",
    "\n",
    "* Dengan memegang fitur lain tetap, peningkatan rata-rata 1 unit variabel age akan dikaitkan dengan peningkatan total 3689 variabel charges \n",
    "\n",
    "* Dengan memegang fitur lain tetap, peningkatan rata-rata 1 unit variabel bmi akan dikaitkan dengan peningkatan total 2091.0 variabel charges \n",
    "\n",
    "* Dengan memegang fitur lain tetap, peningkatan rata-rata 1 unit variabel children akan dikaitkan dengan peningkatan total 514 variabel charges \n",
    "\n",
    "* Dengan memegang fitur lain tetap, peningkatan rata-rata 1 unit variabel sex_male akan dikaitkan dengan peningkatan total 52 variabel charges \n",
    "\n",
    "* Dengan memegang fitur lain tetap, peningkatan rata-rata 1 unit variabel smoker_yes akan dikaitkan dengan peningkatan total 9596 variabel charges \n",
    "\n",
    "\n",
    "Dengan menggunakan model Linear Regression diperoleh score:\n",
    "* MAE:  4145.4505556276\n",
    "* MSE:  33780509.57479167\n",
    "* RMSE:  64.385173414596"
   ]
  },
  {
   "cell_type": "markdown",
   "id": "ad7a15ad",
   "metadata": {},
   "source": [
    "-------------------------------------------------------------------------------------------------------------------"
   ]
  },
  {
   "cell_type": "markdown",
   "id": "9e37a500",
   "metadata": {},
   "source": [
    "# Classification"
   ]
  },
  {
   "cell_type": "markdown",
   "id": "7563bec8",
   "metadata": {},
   "source": [
    "# Data Loading"
   ]
  },
  {
   "cell_type": "code",
   "execution_count": 33,
   "id": "1b9b9c43",
   "metadata": {},
   "outputs": [],
   "source": [
    "df = pd.read_csv('https://raw.githubusercontent.com/fahmimnalfrzki/Dataset/main/GalaxyMorphology.csv')"
   ]
  },
  {
   "cell_type": "code",
   "execution_count": 34,
   "id": "872d2b7b",
   "metadata": {},
   "outputs": [
    {
     "data": {
      "text/html": [
       "<div>\n",
       "<style scoped>\n",
       "    .dataframe tbody tr th:only-of-type {\n",
       "        vertical-align: middle;\n",
       "    }\n",
       "\n",
       "    .dataframe tbody tr th {\n",
       "        vertical-align: top;\n",
       "    }\n",
       "\n",
       "    .dataframe thead th {\n",
       "        text-align: right;\n",
       "    }\n",
       "</style>\n",
       "<table border=\"1\" class=\"dataframe\">\n",
       "  <thead>\n",
       "    <tr style=\"text-align: right;\">\n",
       "      <th></th>\n",
       "      <th>Unnamed: 0</th>\n",
       "      <th>TType</th>\n",
       "      <th>K</th>\n",
       "      <th>C</th>\n",
       "      <th>A</th>\n",
       "      <th>S</th>\n",
       "      <th>G2</th>\n",
       "      <th>H</th>\n",
       "      <th>CNN2classes1stClass</th>\n",
       "    </tr>\n",
       "  </thead>\n",
       "  <tbody>\n",
       "    <tr>\n",
       "      <th>0</th>\n",
       "      <td>0</td>\n",
       "      <td>1.854829</td>\n",
       "      <td>6.560199</td>\n",
       "      <td>0.357051</td>\n",
       "      <td>0.932151</td>\n",
       "      <td>0.850992</td>\n",
       "      <td>1.588183</td>\n",
       "      <td>0.697214</td>\n",
       "      <td>1</td>\n",
       "    </tr>\n",
       "    <tr>\n",
       "      <th>1</th>\n",
       "      <td>1</td>\n",
       "      <td>4.815538</td>\n",
       "      <td>25.950829</td>\n",
       "      <td>0.313292</td>\n",
       "      <td>0.610999</td>\n",
       "      <td>0.723122</td>\n",
       "      <td>1.533653</td>\n",
       "      <td>0.719412</td>\n",
       "      <td>1</td>\n",
       "    </tr>\n",
       "    <tr>\n",
       "      <th>2</th>\n",
       "      <td>2</td>\n",
       "      <td>0.678056</td>\n",
       "      <td>6.867416</td>\n",
       "      <td>0.408286</td>\n",
       "      <td>0.881524</td>\n",
       "      <td>0.813231</td>\n",
       "      <td>1.743747</td>\n",
       "      <td>0.750872</td>\n",
       "      <td>1</td>\n",
       "    </tr>\n",
       "    <tr>\n",
       "      <th>3</th>\n",
       "      <td>3</td>\n",
       "      <td>-0.547708</td>\n",
       "      <td>11.877941</td>\n",
       "      <td>-9999.999999</td>\n",
       "      <td>0.838779</td>\n",
       "      <td>0.816965</td>\n",
       "      <td>1.672529</td>\n",
       "      <td>0.771995</td>\n",
       "      <td>1</td>\n",
       "    </tr>\n",
       "    <tr>\n",
       "      <th>4</th>\n",
       "      <td>4</td>\n",
       "      <td>2.028543</td>\n",
       "      <td>20.458965</td>\n",
       "      <td>0.446453</td>\n",
       "      <td>0.839216</td>\n",
       "      <td>0.801140</td>\n",
       "      <td>1.107665</td>\n",
       "      <td>0.610453</td>\n",
       "      <td>1</td>\n",
       "    </tr>\n",
       "  </tbody>\n",
       "</table>\n",
       "</div>"
      ],
      "text/plain": [
       "   Unnamed: 0     TType          K            C         A         S        G2  \\\n",
       "0           0  1.854829   6.560199     0.357051  0.932151  0.850992  1.588183   \n",
       "1           1  4.815538  25.950829     0.313292  0.610999  0.723122  1.533653   \n",
       "2           2  0.678056   6.867416     0.408286  0.881524  0.813231  1.743747   \n",
       "3           3 -0.547708  11.877941 -9999.999999  0.838779  0.816965  1.672529   \n",
       "4           4  2.028543  20.458965     0.446453  0.839216  0.801140  1.107665   \n",
       "\n",
       "          H  CNN2classes1stClass  \n",
       "0  0.697214                    1  \n",
       "1  0.719412                    1  \n",
       "2  0.750872                    1  \n",
       "3  0.771995                    1  \n",
       "4  0.610453                    1  "
      ]
     },
     "execution_count": 34,
     "metadata": {},
     "output_type": "execute_result"
    }
   ],
   "source": [
    "df.head()"
   ]
  },
  {
   "cell_type": "code",
   "execution_count": 35,
   "id": "e8a66554",
   "metadata": {},
   "outputs": [
    {
     "data": {
      "text/html": [
       "<div>\n",
       "<style scoped>\n",
       "    .dataframe tbody tr th:only-of-type {\n",
       "        vertical-align: middle;\n",
       "    }\n",
       "\n",
       "    .dataframe tbody tr th {\n",
       "        vertical-align: top;\n",
       "    }\n",
       "\n",
       "    .dataframe thead th {\n",
       "        text-align: right;\n",
       "    }\n",
       "</style>\n",
       "<table border=\"1\" class=\"dataframe\">\n",
       "  <thead>\n",
       "    <tr style=\"text-align: right;\">\n",
       "      <th></th>\n",
       "      <th>Unnamed: 0</th>\n",
       "      <th>TType</th>\n",
       "      <th>K</th>\n",
       "      <th>C</th>\n",
       "      <th>A</th>\n",
       "      <th>S</th>\n",
       "      <th>G2</th>\n",
       "      <th>H</th>\n",
       "      <th>CNN2classes1stClass</th>\n",
       "    </tr>\n",
       "  </thead>\n",
       "  <tbody>\n",
       "    <tr>\n",
       "      <th>19995</th>\n",
       "      <td>19995</td>\n",
       "      <td>4.631655</td>\n",
       "      <td>29.018608</td>\n",
       "      <td>0.358020</td>\n",
       "      <td>0.602471</td>\n",
       "      <td>0.832848</td>\n",
       "      <td>1.611594</td>\n",
       "      <td>0.735315</td>\n",
       "      <td>1</td>\n",
       "    </tr>\n",
       "    <tr>\n",
       "      <th>19996</th>\n",
       "      <td>19996</td>\n",
       "      <td>-2.179893</td>\n",
       "      <td>15.245582</td>\n",
       "      <td>0.470026</td>\n",
       "      <td>0.842624</td>\n",
       "      <td>0.868289</td>\n",
       "      <td>1.313089</td>\n",
       "      <td>0.649996</td>\n",
       "      <td>1</td>\n",
       "    </tr>\n",
       "    <tr>\n",
       "      <th>19997</th>\n",
       "      <td>19997</td>\n",
       "      <td>1.876151</td>\n",
       "      <td>6.907812</td>\n",
       "      <td>0.323334</td>\n",
       "      <td>0.830340</td>\n",
       "      <td>0.950820</td>\n",
       "      <td>1.406042</td>\n",
       "      <td>0.671217</td>\n",
       "      <td>1</td>\n",
       "    </tr>\n",
       "    <tr>\n",
       "      <th>19998</th>\n",
       "      <td>19998</td>\n",
       "      <td>5.053256</td>\n",
       "      <td>27.981613</td>\n",
       "      <td>0.393574</td>\n",
       "      <td>0.632766</td>\n",
       "      <td>0.825990</td>\n",
       "      <td>1.659363</td>\n",
       "      <td>0.379448</td>\n",
       "      <td>1</td>\n",
       "    </tr>\n",
       "    <tr>\n",
       "      <th>19999</th>\n",
       "      <td>19999</td>\n",
       "      <td>-0.558501</td>\n",
       "      <td>6.557439</td>\n",
       "      <td>0.346322</td>\n",
       "      <td>0.878231</td>\n",
       "      <td>0.882251</td>\n",
       "      <td>1.616493</td>\n",
       "      <td>0.738060</td>\n",
       "      <td>1</td>\n",
       "    </tr>\n",
       "  </tbody>\n",
       "</table>\n",
       "</div>"
      ],
      "text/plain": [
       "       Unnamed: 0     TType          K         C         A         S  \\\n",
       "19995       19995  4.631655  29.018608  0.358020  0.602471  0.832848   \n",
       "19996       19996 -2.179893  15.245582  0.470026  0.842624  0.868289   \n",
       "19997       19997  1.876151   6.907812  0.323334  0.830340  0.950820   \n",
       "19998       19998  5.053256  27.981613  0.393574  0.632766  0.825990   \n",
       "19999       19999 -0.558501   6.557439  0.346322  0.878231  0.882251   \n",
       "\n",
       "             G2         H  CNN2classes1stClass  \n",
       "19995  1.611594  0.735315                    1  \n",
       "19996  1.313089  0.649996                    1  \n",
       "19997  1.406042  0.671217                    1  \n",
       "19998  1.659363  0.379448                    1  \n",
       "19999  1.616493  0.738060                    1  "
      ]
     },
     "execution_count": 35,
     "metadata": {},
     "output_type": "execute_result"
    }
   ],
   "source": [
    "df.tail()"
   ]
  },
  {
   "cell_type": "code",
   "execution_count": 36,
   "id": "a2f5bd98",
   "metadata": {},
   "outputs": [
    {
     "name": "stdout",
     "output_type": "stream",
     "text": [
      "<class 'pandas.core.frame.DataFrame'>\n",
      "RangeIndex: 20000 entries, 0 to 19999\n",
      "Data columns (total 9 columns):\n",
      " #   Column               Non-Null Count  Dtype  \n",
      "---  ------               --------------  -----  \n",
      " 0   Unnamed: 0           20000 non-null  int64  \n",
      " 1   TType                20000 non-null  float64\n",
      " 2   K                    20000 non-null  float64\n",
      " 3   C                    20000 non-null  float64\n",
      " 4   A                    20000 non-null  float64\n",
      " 5   S                    20000 non-null  float64\n",
      " 6   G2                   20000 non-null  float64\n",
      " 7   H                    20000 non-null  float64\n",
      " 8   CNN2classes1stClass  20000 non-null  int64  \n",
      "dtypes: float64(7), int64(2)\n",
      "memory usage: 1.4 MB\n"
     ]
    }
   ],
   "source": [
    "df.info()"
   ]
  },
  {
   "cell_type": "code",
   "execution_count": 37,
   "id": "273db697",
   "metadata": {},
   "outputs": [
    {
     "data": {
      "text/html": [
       "<div>\n",
       "<style scoped>\n",
       "    .dataframe tbody tr th:only-of-type {\n",
       "        vertical-align: middle;\n",
       "    }\n",
       "\n",
       "    .dataframe tbody tr th {\n",
       "        vertical-align: top;\n",
       "    }\n",
       "\n",
       "    .dataframe thead th {\n",
       "        text-align: right;\n",
       "    }\n",
       "</style>\n",
       "<table border=\"1\" class=\"dataframe\">\n",
       "  <thead>\n",
       "    <tr style=\"text-align: right;\">\n",
       "      <th></th>\n",
       "      <th>Unnamed: 0</th>\n",
       "      <th>TType</th>\n",
       "      <th>K</th>\n",
       "      <th>C</th>\n",
       "      <th>A</th>\n",
       "      <th>S</th>\n",
       "      <th>G2</th>\n",
       "      <th>H</th>\n",
       "      <th>CNN2classes1stClass</th>\n",
       "    </tr>\n",
       "  </thead>\n",
       "  <tbody>\n",
       "    <tr>\n",
       "      <th>count</th>\n",
       "      <td>20000.000000</td>\n",
       "      <td>20000.000000</td>\n",
       "      <td>20000.000000</td>\n",
       "      <td>20000.000000</td>\n",
       "      <td>20000.000000</td>\n",
       "      <td>20000.000000</td>\n",
       "      <td>20000.000000</td>\n",
       "      <td>20000.000000</td>\n",
       "      <td>20000.000000</td>\n",
       "    </tr>\n",
       "    <tr>\n",
       "      <th>mean</th>\n",
       "      <td>9999.500000</td>\n",
       "      <td>0.395287</td>\n",
       "      <td>18.708788</td>\n",
       "      <td>-1846.175115</td>\n",
       "      <td>0.323992</td>\n",
       "      <td>-3.220560</td>\n",
       "      <td>0.747130</td>\n",
       "      <td>0.655137</td>\n",
       "      <td>0.807200</td>\n",
       "    </tr>\n",
       "    <tr>\n",
       "      <th>std</th>\n",
       "      <td>5773.647028</td>\n",
       "      <td>2.432726</td>\n",
       "      <td>26.185899</td>\n",
       "      <td>3880.385347</td>\n",
       "      <td>70.716614</td>\n",
       "      <td>199.980672</td>\n",
       "      <td>70.720857</td>\n",
       "      <td>0.113237</td>\n",
       "      <td>0.394507</td>\n",
       "    </tr>\n",
       "    <tr>\n",
       "      <th>min</th>\n",
       "      <td>0.000000</td>\n",
       "      <td>-2.913205</td>\n",
       "      <td>1.471492</td>\n",
       "      <td>-9999.999999</td>\n",
       "      <td>-9999.999999</td>\n",
       "      <td>-9999.999999</td>\n",
       "      <td>-9999.999999</td>\n",
       "      <td>0.017008</td>\n",
       "      <td>0.000000</td>\n",
       "    </tr>\n",
       "    <tr>\n",
       "      <th>25%</th>\n",
       "      <td>4999.750000</td>\n",
       "      <td>-1.952929</td>\n",
       "      <td>7.039827</td>\n",
       "      <td>0.292831</td>\n",
       "      <td>0.782718</td>\n",
       "      <td>0.757618</td>\n",
       "      <td>0.979765</td>\n",
       "      <td>0.585356</td>\n",
       "      <td>1.000000</td>\n",
       "    </tr>\n",
       "    <tr>\n",
       "      <th>50%</th>\n",
       "      <td>9999.500000</td>\n",
       "      <td>-0.071197</td>\n",
       "      <td>11.781205</td>\n",
       "      <td>0.365902</td>\n",
       "      <td>0.859172</td>\n",
       "      <td>0.844121</td>\n",
       "      <td>1.364905</td>\n",
       "      <td>0.659603</td>\n",
       "      <td>1.000000</td>\n",
       "    </tr>\n",
       "    <tr>\n",
       "      <th>75%</th>\n",
       "      <td>14999.250000</td>\n",
       "      <td>2.376115</td>\n",
       "      <td>20.920884</td>\n",
       "      <td>0.437227</td>\n",
       "      <td>0.905404</td>\n",
       "      <td>0.889421</td>\n",
       "      <td>1.606039</td>\n",
       "      <td>0.743029</td>\n",
       "      <td>1.000000</td>\n",
       "    </tr>\n",
       "    <tr>\n",
       "      <th>max</th>\n",
       "      <td>19999.000000</td>\n",
       "      <td>7.773612</td>\n",
       "      <td>1035.467764</td>\n",
       "      <td>0.761184</td>\n",
       "      <td>0.986535</td>\n",
       "      <td>0.979032</td>\n",
       "      <td>1.953389</td>\n",
       "      <td>0.929947</td>\n",
       "      <td>1.000000</td>\n",
       "    </tr>\n",
       "  </tbody>\n",
       "</table>\n",
       "</div>"
      ],
      "text/plain": [
       "         Unnamed: 0         TType             K             C             A  \\\n",
       "count  20000.000000  20000.000000  20000.000000  20000.000000  20000.000000   \n",
       "mean    9999.500000      0.395287     18.708788  -1846.175115      0.323992   \n",
       "std     5773.647028      2.432726     26.185899   3880.385347     70.716614   \n",
       "min        0.000000     -2.913205      1.471492  -9999.999999  -9999.999999   \n",
       "25%     4999.750000     -1.952929      7.039827      0.292831      0.782718   \n",
       "50%     9999.500000     -0.071197     11.781205      0.365902      0.859172   \n",
       "75%    14999.250000      2.376115     20.920884      0.437227      0.905404   \n",
       "max    19999.000000      7.773612   1035.467764      0.761184      0.986535   \n",
       "\n",
       "                  S            G2             H  CNN2classes1stClass  \n",
       "count  20000.000000  20000.000000  20000.000000         20000.000000  \n",
       "mean      -3.220560      0.747130      0.655137             0.807200  \n",
       "std      199.980672     70.720857      0.113237             0.394507  \n",
       "min    -9999.999999  -9999.999999      0.017008             0.000000  \n",
       "25%        0.757618      0.979765      0.585356             1.000000  \n",
       "50%        0.844121      1.364905      0.659603             1.000000  \n",
       "75%        0.889421      1.606039      0.743029             1.000000  \n",
       "max        0.979032      1.953389      0.929947             1.000000  "
      ]
     },
     "execution_count": 37,
     "metadata": {},
     "output_type": "execute_result"
    }
   ],
   "source": [
    "df.describe()"
   ]
  },
  {
   "cell_type": "code",
   "execution_count": 38,
   "id": "f085dbde",
   "metadata": {},
   "outputs": [
    {
     "data": {
      "text/plain": [
       "(20000, 9)"
      ]
     },
     "execution_count": 38,
     "metadata": {},
     "output_type": "execute_result"
    }
   ],
   "source": [
    "df.shape"
   ]
  },
  {
   "cell_type": "code",
   "execution_count": 39,
   "id": "3e4bb755",
   "metadata": {},
   "outputs": [
    {
     "data": {
      "text/plain": [
       "Index(['Unnamed: 0', 'TType', 'K', 'C', 'A', 'S', 'G2', 'H',\n",
       "       'CNN2classes1stClass'],\n",
       "      dtype='object')"
      ]
     },
     "execution_count": 39,
     "metadata": {},
     "output_type": "execute_result"
    }
   ],
   "source": [
    "df.columns"
   ]
  },
  {
   "cell_type": "code",
   "execution_count": 40,
   "id": "7fa181ea",
   "metadata": {},
   "outputs": [
    {
     "data": {
      "text/plain": [
       "array([1, 0])"
      ]
     },
     "execution_count": 40,
     "metadata": {},
     "output_type": "execute_result"
    }
   ],
   "source": [
    "df['CNN2classes1stClass'].unique()"
   ]
  },
  {
   "cell_type": "markdown",
   "id": "153df863",
   "metadata": {},
   "source": [
    "# Data Cleaning"
   ]
  },
  {
   "cell_type": "code",
   "execution_count": 41,
   "id": "9969aa07",
   "metadata": {},
   "outputs": [],
   "source": [
    "col_to_use = ['C', 'A', 'S', 'G2', 'H','CNN2classes1stClass']"
   ]
  },
  {
   "cell_type": "code",
   "execution_count": 42,
   "id": "8afc419a",
   "metadata": {},
   "outputs": [
    {
     "data": {
      "text/html": [
       "<div>\n",
       "<style scoped>\n",
       "    .dataframe tbody tr th:only-of-type {\n",
       "        vertical-align: middle;\n",
       "    }\n",
       "\n",
       "    .dataframe tbody tr th {\n",
       "        vertical-align: top;\n",
       "    }\n",
       "\n",
       "    .dataframe thead th {\n",
       "        text-align: right;\n",
       "    }\n",
       "</style>\n",
       "<table border=\"1\" class=\"dataframe\">\n",
       "  <thead>\n",
       "    <tr style=\"text-align: right;\">\n",
       "      <th></th>\n",
       "      <th>C</th>\n",
       "      <th>A</th>\n",
       "      <th>S</th>\n",
       "      <th>G2</th>\n",
       "      <th>H</th>\n",
       "      <th>CNN2classes1stClass</th>\n",
       "    </tr>\n",
       "  </thead>\n",
       "  <tbody>\n",
       "    <tr>\n",
       "      <th>0</th>\n",
       "      <td>0.357051</td>\n",
       "      <td>0.932151</td>\n",
       "      <td>0.850992</td>\n",
       "      <td>1.588183</td>\n",
       "      <td>0.697214</td>\n",
       "      <td>1</td>\n",
       "    </tr>\n",
       "    <tr>\n",
       "      <th>1</th>\n",
       "      <td>0.313292</td>\n",
       "      <td>0.610999</td>\n",
       "      <td>0.723122</td>\n",
       "      <td>1.533653</td>\n",
       "      <td>0.719412</td>\n",
       "      <td>1</td>\n",
       "    </tr>\n",
       "    <tr>\n",
       "      <th>2</th>\n",
       "      <td>0.408286</td>\n",
       "      <td>0.881524</td>\n",
       "      <td>0.813231</td>\n",
       "      <td>1.743747</td>\n",
       "      <td>0.750872</td>\n",
       "      <td>1</td>\n",
       "    </tr>\n",
       "    <tr>\n",
       "      <th>3</th>\n",
       "      <td>-9999.999999</td>\n",
       "      <td>0.838779</td>\n",
       "      <td>0.816965</td>\n",
       "      <td>1.672529</td>\n",
       "      <td>0.771995</td>\n",
       "      <td>1</td>\n",
       "    </tr>\n",
       "    <tr>\n",
       "      <th>4</th>\n",
       "      <td>0.446453</td>\n",
       "      <td>0.839216</td>\n",
       "      <td>0.801140</td>\n",
       "      <td>1.107665</td>\n",
       "      <td>0.610453</td>\n",
       "      <td>1</td>\n",
       "    </tr>\n",
       "  </tbody>\n",
       "</table>\n",
       "</div>"
      ],
      "text/plain": [
       "             C         A         S        G2         H  CNN2classes1stClass\n",
       "0     0.357051  0.932151  0.850992  1.588183  0.697214                    1\n",
       "1     0.313292  0.610999  0.723122  1.533653  0.719412                    1\n",
       "2     0.408286  0.881524  0.813231  1.743747  0.750872                    1\n",
       "3 -9999.999999  0.838779  0.816965  1.672529  0.771995                    1\n",
       "4     0.446453  0.839216  0.801140  1.107665  0.610453                    1"
      ]
     },
     "execution_count": 42,
     "metadata": {},
     "output_type": "execute_result"
    }
   ],
   "source": [
    "df = df[col_to_use]\n",
    "df.head()"
   ]
  },
  {
   "cell_type": "code",
   "execution_count": 43,
   "id": "be294f7e",
   "metadata": {},
   "outputs": [
    {
     "data": {
      "text/plain": [
       "C                      0\n",
       "A                      0\n",
       "S                      0\n",
       "G2                     0\n",
       "H                      0\n",
       "CNN2classes1stClass    0\n",
       "dtype: int64"
      ]
     },
     "execution_count": 43,
     "metadata": {},
     "output_type": "execute_result"
    }
   ],
   "source": [
    "df.isna().sum()"
   ]
  },
  {
   "cell_type": "markdown",
   "id": "8cac9ab1",
   "metadata": {},
   "source": [
    "# Explorasi Data"
   ]
  },
  {
   "cell_type": "code",
   "execution_count": 44,
   "id": "4f9301bf",
   "metadata": {},
   "outputs": [
    {
     "data": {
      "image/png": "[encoded data removed]",
      "text/plain": [
       "<Figure size 720x360 with 2 Axes>"
      ]
     },
     "metadata": {
      "needs_background": "light"
     },
     "output_type": "display_data"
    }
   ],
   "source": [
    "plt.figure(figsize=(10,5))\n",
    "sns.heatmap(df.corr(), annot=True);"
   ]
  },
  {
   "cell_type": "markdown",
   "id": "b387d332",
   "metadata": {},
   "source": [
    "dari visualisasi terlihat bahwa variabel H memiliki korelasi positif dengan variabel CNN2classes1stClass yaitu 0.27"
   ]
  },
  {
   "cell_type": "code",
   "execution_count": 45,
   "id": "0ccc5ef6",
   "metadata": {},
   "outputs": [
    {
     "data": {
      "image/png": "[encoded data removed]",
      "text/plain": [
       "<Figure size 432x288 with 1 Axes>"
      ]
     },
     "metadata": {
      "needs_background": "light"
     },
     "output_type": "display_data"
    }
   ],
   "source": [
    "sns.countplot(x='CNN2classes1stClass', data=df);"
   ]
  },
  {
   "cell_type": "markdown",
   "id": "54cd6277",
   "metadata": {},
   "source": [
    "dari visualisasi terlihat bahwa jumlah galaksi spriral lebih banyak dibandingkan galaksi elips"
   ]
  },
  {
   "cell_type": "markdown",
   "id": "0ea49bb1",
   "metadata": {},
   "source": [
    "# Data Preprocessing"
   ]
  },
  {
   "cell_type": "markdown",
   "id": "0760effb",
   "metadata": {},
   "source": [
    "#### Menentukan variabel independent (X) dan varibel dependent (y)"
   ]
  },
  {
   "cell_type": "code",
   "execution_count": 46,
   "id": "26bedec5",
   "metadata": {},
   "outputs": [],
   "source": [
    "X = df.drop('CNN2classes1stClass', axis=1)\n",
    "y = df['CNN2classes1stClass']"
   ]
  },
  {
   "cell_type": "markdown",
   "id": "a925b854",
   "metadata": {},
   "source": [
    "#### Import pustaka"
   ]
  },
  {
   "cell_type": "code",
   "execution_count": 47,
   "id": "e2cfad7f",
   "metadata": {},
   "outputs": [],
   "source": [
    "from sklearn.svm import SVC\n",
    "from sklearn.preprocessing import StandardScaler\n",
    "from sklearn.model_selection import train_test_split"
   ]
  },
  {
   "cell_type": "markdown",
   "id": "de833c31",
   "metadata": {},
   "source": [
    "#### Split Data"
   ]
  },
  {
   "cell_type": "code",
   "execution_count": 48,
   "id": "4a92483b",
   "metadata": {},
   "outputs": [],
   "source": [
    "X_train, X_test, y_train, y_test = train_test_split(X,y, test_size=0.3, random_state=42)"
   ]
  },
  {
   "cell_type": "markdown",
   "id": "a6d24727",
   "metadata": {},
   "source": [
    "#### Regularisasi Data"
   ]
  },
  {
   "cell_type": "code",
   "execution_count": 49,
   "id": "802e6dbf",
   "metadata": {},
   "outputs": [],
   "source": [
    "scaler = StandardScaler()\n",
    "scaler.fit(X_train)\n",
    "X_train_trf = scaler.transform(X_train)\n",
    "X_test_trf = scaler.transform(X_test)"
   ]
  },
  {
   "cell_type": "markdown",
   "id": "023c8e96",
   "metadata": {},
   "source": [
    "# Pendefinisian Model"
   ]
  },
  {
   "cell_type": "code",
   "execution_count": 50,
   "id": "257f5dd5",
   "metadata": {},
   "outputs": [],
   "source": [
    "model_svc_rbf = SVC(kernel='rbf', random_state=42, C=1)"
   ]
  },
  {
   "cell_type": "markdown",
   "id": "b91eef1f",
   "metadata": {},
   "source": [
    "# Pelatihan Model"
   ]
  },
  {
   "cell_type": "code",
   "execution_count": 51,
   "id": "3658e3e6",
   "metadata": {},
   "outputs": [
    {
     "name": "stdout",
     "output_type": "stream",
     "text": [
      "CPU times: user 16.6 s, sys: 466 ms, total: 17.1 s\n",
      "Wall time: 20.9 s\n"
     ]
    },
    {
     "data": {
      "text/plain": [
       "SVC(C=1, random_state=42)"
      ]
     },
     "execution_count": 51,
     "metadata": {},
     "output_type": "execute_result"
    }
   ],
   "source": [
    "%time model_svc_rbf.fit(X_train_trf, y_train)"
   ]
  },
  {
   "cell_type": "markdown",
   "id": "5dd29e82",
   "metadata": {},
   "source": [
    "# Evaluasi Model"
   ]
  },
  {
   "cell_type": "markdown",
   "id": "2ea8b409",
   "metadata": {},
   "source": [
    "#### Import pustaka"
   ]
  },
  {
   "cell_type": "code",
   "execution_count": 52,
   "id": "d5e0e350",
   "metadata": {},
   "outputs": [],
   "source": [
    "from sklearn.metrics import confusion_matrix, classification_report, roc_curve, auc, roc_auc_score"
   ]
  },
  {
   "cell_type": "markdown",
   "id": "0ef2cca8",
   "metadata": {},
   "source": [
    "#### Evaluation Classification Metrics SVM RBF"
   ]
  },
  {
   "cell_type": "code",
   "execution_count": 53,
   "id": "e34f9e59",
   "metadata": {},
   "outputs": [
    {
     "name": "stdout",
     "output_type": "stream",
     "text": [
      "CPU times: user 8.55 s, sys: 82 ms, total: 8.63 s\n",
      "Wall time: 9.63 s\n"
     ]
    }
   ],
   "source": [
    "%time y_preds_rbf = model_svc_rbf.predict(X_test_trf)"
   ]
  },
  {
   "cell_type": "code",
   "execution_count": 54,
   "id": "6043b027",
   "metadata": {},
   "outputs": [
    {
     "name": "stdout",
     "output_type": "stream",
     "text": [
      "Classification Report: \n",
      "               precision    recall  f1-score   support\n",
      "\n",
      "           0       0.00      0.00      0.00      1138\n",
      "           1       0.81      1.00      0.90      4862\n",
      "\n",
      "    accuracy                           0.81      6000\n",
      "   macro avg       0.41      0.50      0.45      6000\n",
      "weighted avg       0.66      0.81      0.73      6000\n",
      "\n"
     ]
    },
    {
     "name": "stderr",
     "output_type": "stream",
     "text": [
      "/Users/dody/opt/anaconda3/lib/python3.8/site-packages/sklearn/metrics/_classification.py:1248: UndefinedMetricWarning: Precision and F-score are ill-defined and being set to 0.0 in labels with no predicted samples. Use `zero_division` parameter to control this behavior.\n",
      "  _warn_prf(average, modifier, msg_start, len(result))\n",
      "/Users/dody/opt/anaconda3/lib/python3.8/site-packages/sklearn/metrics/_classification.py:1248: UndefinedMetricWarning: Precision and F-score are ill-defined and being set to 0.0 in labels with no predicted samples. Use `zero_division` parameter to control this behavior.\n",
      "  _warn_prf(average, modifier, msg_start, len(result))\n",
      "/Users/dody/opt/anaconda3/lib/python3.8/site-packages/sklearn/metrics/_classification.py:1248: UndefinedMetricWarning: Precision and F-score are ill-defined and being set to 0.0 in labels with no predicted samples. Use `zero_division` parameter to control this behavior.\n",
      "  _warn_prf(average, modifier, msg_start, len(result))\n"
     ]
    }
   ],
   "source": [
    "print(\"Classification Report: \\n\", classification_report(y_test, y_preds_rbf))"
   ]
  },
  {
   "cell_type": "markdown",
   "id": "bdd93b8d",
   "metadata": {},
   "source": [
    "#### ROC Curve"
   ]
  },
  {
   "cell_type": "code",
   "execution_count": 55,
   "id": "1b8ada33",
   "metadata": {},
   "outputs": [],
   "source": [
    "def plot_roc_curve(fpr, tpr, label=None):\n",
    "    plt.plot(fpr, tpr, linewidth=2, label=label)\n",
    "    plt.plot([0, 1], [0, 1], 'k--') \n",
    "    plt.axis([0, 1, 0, 1])                                    \n",
    "    plt.xlabel('False Positive Rate (Fall-Out)', fontsize=16) \n",
    "    plt.ylabel('True Positive Rate (Recall)', fontsize=16)    \n",
    "    plt.grid(True)  "
   ]
  },
  {
   "cell_type": "code",
   "execution_count": 56,
   "id": "878e2a76",
   "metadata": {},
   "outputs": [
    {
     "data": {
      "image/png": "[encoded data removed]",
      "text/plain": [
       "<Figure size 576x432 with 1 Axes>"
      ]
     },
     "metadata": {
      "needs_background": "light"
     },
     "output_type": "display_data"
    }
   ],
   "source": [
    "plt.figure(figsize=(8, 6))                                    \n",
    "plt.axis([0, 1, 0, 1])                                    \n",
    "plt.xlabel('False Positive Rate (Fall-Out)', fontsize=16) \n",
    "plt.ylabel('True Positive Rate (Recall)', fontsize=16)    \n",
    "plt.grid(True)                                            \n",
    "plt.plot([0, 1], [0, 1], 'k--') \n",
    "labels=['SVM RBF']\n",
    "for idx,model in enumerate([model_svc_rbf]):\n",
    "    y_scores = model.decision_function(X_test_trf)\n",
    "    fpr, tpr, thresholds = roc_curve(y_test, y_scores)\n",
    "    roc_auc = auc(fpr, tpr)\n",
    "    plt.plot(fpr, tpr, linewidth=2,label=labels[idx] + ' ROC curve (area = %0.2f)' % roc_auc)\n",
    "plt.legend(loc=\"lower right\");"
   ]
  },
  {
   "cell_type": "markdown",
   "id": "df8845a3",
   "metadata": {},
   "source": [
    "# Model Inference"
   ]
  },
  {
   "cell_type": "markdown",
   "id": "581d63c0",
   "metadata": {},
   "source": [
    "#### Menggunakan data baru"
   ]
  },
  {
   "cell_type": "code",
   "execution_count": 58,
   "id": "301fcb66",
   "metadata": {},
   "outputs": [],
   "source": [
    "dummies = [[0.0, 0.0, 0.7, 0.94, 0.56]]"
   ]
  },
  {
   "cell_type": "code",
   "execution_count": 60,
   "id": "fc923727",
   "metadata": {},
   "outputs": [
    {
     "name": "stdout",
     "output_type": "stream",
     "text": [
      "CPU times: user 16.3 s, sys: 386 ms, total: 16.7 s\n",
      "Wall time: 19 s\n"
     ]
    },
    {
     "data": {
      "text/plain": [
       "array([1])"
      ]
     },
     "execution_count": 60,
     "metadata": {},
     "output_type": "execute_result"
    }
   ],
   "source": [
    "model_svc_rbf = SVC(kernel='rbf', random_state=42, C=1)\n",
    "%time model_svc_rbf.fit(X_train_trf, y_train)\n",
    "\n",
    "predictions = model_svc_rbf.predict(dummies)\n",
    "predictions"
   ]
  },
  {
   "cell_type": "markdown",
   "id": "98844cb1",
   "metadata": {},
   "source": [
    "# Pengambilan Keputusan"
   ]
  },
  {
   "cell_type": "markdown",
   "id": "4f283500",
   "metadata": {},
   "source": [
    "Pemilihan Model Classification disebabkan karena objective yang ingin dicapai adalah melakukan klasifikasi terhadap tipe galaksi\n",
    "\n",
    "Dari visualisasi terlihat bahwa jumlah galaksi spriral lebih banyak dibandingkan galaksi elips\n",
    "\n",
    "Dengan menggunakan model SVM dengan kernel 'rbf' diperoleh score:\n",
    "* accureacy:  0.81\n",
    "* ROC curve:  0.72"
   ]
  },
  {
   "cell_type": "code",
   "execution_count": null,
   "id": "8405e5b3",
   "metadata": {},
   "outputs": [],
   "source": []
  }
 ],
 "metadata": {
  "kernelspec": {
   "display_name": "Python 3",
   "language": "python",
   "name": "python3"
  },
  "language_info": {
   "codemirror_mode": {
    "name": "ipython",
    "version": 3
   },
   "file_extension": ".py",
   "mimetype": "text/x-python",
   "name": "python",
   "nbconvert_exporter": "python",
   "pygments_lexer": "ipython3",
   "version": "3.8.5"
  }
 },
 "nbformat": 4,
 "nbformat_minor": 5
}
