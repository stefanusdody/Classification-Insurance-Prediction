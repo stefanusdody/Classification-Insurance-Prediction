{
 "cells": [
  {
   "cell_type": "markdown",
   "id": "c2135dae",
   "metadata": {},
   "source": [
    "# Perkenalan"
   ]
  },
  {
   "cell_type": "markdown",
   "id": "6e182339",
   "metadata": {},
   "source": [
    "nama : Stepanus Dody Kristianto wicaksono\n",
    "\n",
    "batch : 001"
   ]
  },
  {
   "cell_type": "markdown",
   "id": "9c340279",
   "metadata": {},
   "source": [
    "#### Dataset :\n",
    "\n",
    "* Dataset pertama mengenai data asuransi\n",
    "* Dataset kedua mengenai data galaxy"
   ]
  },
  {
   "cell_type": "markdown",
   "id": "6ef8b07e",
   "metadata": {},
   "source": [
    "#### Sumber Dataset:\n",
    "\n",
    "* dataset biaya asuransi menggunakan dataset berasl dari: https://www.kaggle.com/mirichoi0218/insurance?select=insurance.csv\n",
    "* dataset data galaxy menggunakan dataset berasl dari: https://raw.githubusercontent.com/fahmimnalfrzki/Dataset/main/GalaxyMorphology.csv"
   ]
  },
  {
   "cell_type": "markdown",
   "id": "4265c393",
   "metadata": {},
   "source": [
    "#### Objective yang ingin dicapai:\n",
    "\n",
    "* memprediksi biaya asuransi\n",
    "* mengklasifikasikan tipe galaksi"
   ]
  },
  {
   "cell_type": "markdown",
   "id": "1724c778",
   "metadata": {},
   "source": [
    "# Live Coding 1"
   ]
  },
  {
   "cell_type": "markdown",
   "id": "82534678",
   "metadata": {},
   "source": [
    "# Import Pustaka"
   ]
  },
  {
   "cell_type": "code",
   "execution_count": 1,
   "id": "dee87a69",
   "metadata": {},
   "outputs": [],
   "source": [
    "import pandas as pd\n",
    "import numpy as np\n",
    "import matplotlib.pyplot as plt\n",
    "import seaborn as sns\n",
    "\n",
    "%matplotlib inline"
   ]
  },
  {
   "cell_type": "markdown",
   "id": "af5a04d2",
   "metadata": {},
   "source": [
    "# Regression"
   ]
  },
  {
   "cell_type": "markdown",
   "id": "85ff40bf",
   "metadata": {},
   "source": [
    "# Data Loading"
   ]
  },
  {
   "cell_type": "code",
   "execution_count": 2,
   "id": "85a76932",
   "metadata": {},
   "outputs": [],
   "source": [
    "data = pd.read_csv('insurance.csv')"
   ]
  },
  {
   "cell_type": "code",
   "execution_count": 3,
   "id": "9128304f",
   "metadata": {},
   "outputs": [
    {
     "data": {
      "text/html": [
       "<div>\n",
       "<style scoped>\n",
       "    .dataframe tbody tr th:only-of-type {\n",
       "        vertical-align: middle;\n",
       "    }\n",
       "\n",
       "    .dataframe tbody tr th {\n",
       "        vertical-align: top;\n",
       "    }\n",
       "\n",
       "    .dataframe thead th {\n",
       "        text-align: right;\n",
       "    }\n",
       "</style>\n",
       "<table border=\"1\" class=\"dataframe\">\n",
       "  <thead>\n",
       "    <tr style=\"text-align: right;\">\n",
       "      <th></th>\n",
       "      <th>age</th>\n",
       "      <th>sex</th>\n",
       "      <th>bmi</th>\n",
       "      <th>children</th>\n",
       "      <th>smoker</th>\n",
       "      <th>region</th>\n",
       "      <th>charges</th>\n",
       "    </tr>\n",
       "  </thead>\n",
       "  <tbody>\n",
       "    <tr>\n",
       "      <th>0</th>\n",
       "      <td>19</td>\n",
       "      <td>female</td>\n",
       "      <td>27.900</td>\n",
       "      <td>0</td>\n",
       "      <td>yes</td>\n",
       "      <td>southwest</td>\n",
       "      <td>16884.92400</td>\n",
       "    </tr>\n",
       "    <tr>\n",
       "      <th>1</th>\n",
       "      <td>18</td>\n",
       "      <td>male</td>\n",
       "      <td>33.770</td>\n",
       "      <td>1</td>\n",
       "      <td>no</td>\n",
       "      <td>southeast</td>\n",
       "      <td>1725.55230</td>\n",
       "    </tr>\n",
       "    <tr>\n",
       "      <th>2</th>\n",
       "      <td>28</td>\n",
       "      <td>male</td>\n",
       "      <td>33.000</td>\n",
       "      <td>3</td>\n",
       "      <td>no</td>\n",
       "      <td>southeast</td>\n",
       "      <td>4449.46200</td>\n",
       "    </tr>\n",
       "    <tr>\n",
       "      <th>3</th>\n",
       "      <td>33</td>\n",
       "      <td>male</td>\n",
       "      <td>22.705</td>\n",
       "      <td>0</td>\n",
       "      <td>no</td>\n",
       "      <td>northwest</td>\n",
       "      <td>21984.47061</td>\n",
       "    </tr>\n",
       "    <tr>\n",
       "      <th>4</th>\n",
       "      <td>32</td>\n",
       "      <td>male</td>\n",
       "      <td>28.880</td>\n",
       "      <td>0</td>\n",
       "      <td>no</td>\n",
       "      <td>northwest</td>\n",
       "      <td>3866.85520</td>\n",
       "    </tr>\n",
       "  </tbody>\n",
       "</table>\n",
       "</div>"
      ],
      "text/plain": [
       "   age     sex     bmi  children smoker     region      charges\n",
       "0   19  female  27.900         0    yes  southwest  16884.92400\n",
       "1   18    male  33.770         1     no  southeast   1725.55230\n",
       "2   28    male  33.000         3     no  southeast   4449.46200\n",
       "3   33    male  22.705         0     no  northwest  21984.47061\n",
       "4   32    male  28.880         0     no  northwest   3866.85520"
      ]
     },
     "execution_count": 3,
     "metadata": {},
     "output_type": "execute_result"
    }
   ],
   "source": [
    "data.head()"
   ]
  },
  {
   "cell_type": "code",
   "execution_count": 4,
   "id": "c5a0c6e2",
   "metadata": {},
   "outputs": [
    {
     "data": {
      "text/html": [
       "<div>\n",
       "<style scoped>\n",
       "    .dataframe tbody tr th:only-of-type {\n",
       "        vertical-align: middle;\n",
       "    }\n",
       "\n",
       "    .dataframe tbody tr th {\n",
       "        vertical-align: top;\n",
       "    }\n",
       "\n",
       "    .dataframe thead th {\n",
       "        text-align: right;\n",
       "    }\n",
       "</style>\n",
       "<table border=\"1\" class=\"dataframe\">\n",
       "  <thead>\n",
       "    <tr style=\"text-align: right;\">\n",
       "      <th></th>\n",
       "      <th>age</th>\n",
       "      <th>sex</th>\n",
       "      <th>bmi</th>\n",
       "      <th>children</th>\n",
       "      <th>smoker</th>\n",
       "      <th>region</th>\n",
       "      <th>charges</th>\n",
       "    </tr>\n",
       "  </thead>\n",
       "  <tbody>\n",
       "    <tr>\n",
       "      <th>1333</th>\n",
       "      <td>50</td>\n",
       "      <td>male</td>\n",
       "      <td>30.97</td>\n",
       "      <td>3</td>\n",
       "      <td>no</td>\n",
       "      <td>northwest</td>\n",
       "      <td>10600.5483</td>\n",
       "    </tr>\n",
       "    <tr>\n",
       "      <th>1334</th>\n",
       "      <td>18</td>\n",
       "      <td>female</td>\n",
       "      <td>31.92</td>\n",
       "      <td>0</td>\n",
       "      <td>no</td>\n",
       "      <td>northeast</td>\n",
       "      <td>2205.9808</td>\n",
       "    </tr>\n",
       "    <tr>\n",
       "      <th>1335</th>\n",
       "      <td>18</td>\n",
       "      <td>female</td>\n",
       "      <td>36.85</td>\n",
       "      <td>0</td>\n",
       "      <td>no</td>\n",
       "      <td>southeast</td>\n",
       "      <td>1629.8335</td>\n",
       "    </tr>\n",
       "    <tr>\n",
       "      <th>1336</th>\n",
       "      <td>21</td>\n",
       "      <td>female</td>\n",
       "      <td>25.80</td>\n",
       "      <td>0</td>\n",
       "      <td>no</td>\n",
       "      <td>southwest</td>\n",
       "      <td>2007.9450</td>\n",
       "    </tr>\n",
       "    <tr>\n",
       "      <th>1337</th>\n",
       "      <td>61</td>\n",
       "      <td>female</td>\n",
       "      <td>29.07</td>\n",
       "      <td>0</td>\n",
       "      <td>yes</td>\n",
       "      <td>northwest</td>\n",
       "      <td>29141.3603</td>\n",
       "    </tr>\n",
       "  </tbody>\n",
       "</table>\n",
       "</div>"
      ],
      "text/plain": [
       "      age     sex    bmi  children smoker     region     charges\n",
       "1333   50    male  30.97         3     no  northwest  10600.5483\n",
       "1334   18  female  31.92         0     no  northeast   2205.9808\n",
       "1335   18  female  36.85         0     no  southeast   1629.8335\n",
       "1336   21  female  25.80         0     no  southwest   2007.9450\n",
       "1337   61  female  29.07         0    yes  northwest  29141.3603"
      ]
     },
     "execution_count": 4,
     "metadata": {},
     "output_type": "execute_result"
    }
   ],
   "source": [
    "data.tail()"
   ]
  },
  {
   "cell_type": "code",
   "execution_count": 5,
   "id": "12481b43",
   "metadata": {},
   "outputs": [
    {
     "name": "stdout",
     "output_type": "stream",
     "text": [
      "<class 'pandas.core.frame.DataFrame'>\n",
      "RangeIndex: 1338 entries, 0 to 1337\n",
      "Data columns (total 7 columns):\n",
      " #   Column    Non-Null Count  Dtype  \n",
      "---  ------    --------------  -----  \n",
      " 0   age       1338 non-null   int64  \n",
      " 1   sex       1338 non-null   object \n",
      " 2   bmi       1338 non-null   float64\n",
      " 3   children  1338 non-null   int64  \n",
      " 4   smoker    1338 non-null   object \n",
      " 5   region    1338 non-null   object \n",
      " 6   charges   1338 non-null   float64\n",
      "dtypes: float64(2), int64(2), object(3)\n",
      "memory usage: 73.3+ KB\n"
     ]
    }
   ],
   "source": [
    "data.info()"
   ]
  },
  {
   "cell_type": "code",
   "execution_count": 6,
   "id": "f096e898",
   "metadata": {},
   "outputs": [
    {
     "data": {
      "text/plain": [
       "Index(['age', 'sex', 'bmi', 'children', 'smoker', 'region', 'charges'], dtype='object')"
      ]
     },
     "execution_count": 6,
     "metadata": {},
     "output_type": "execute_result"
    }
   ],
   "source": [
    "data.columns"
   ]
  },
  {
   "cell_type": "code",
   "execution_count": 7,
   "id": "6f3e3f9c",
   "metadata": {},
   "outputs": [
    {
     "data": {
      "text/html": [
       "<div>\n",
       "<style scoped>\n",
       "    .dataframe tbody tr th:only-of-type {\n",
       "        vertical-align: middle;\n",
       "    }\n",
       "\n",
       "    .dataframe tbody tr th {\n",
       "        vertical-align: top;\n",
       "    }\n",
       "\n",
       "    .dataframe thead th {\n",
       "        text-align: right;\n",
       "    }\n",
       "</style>\n",
       "<table border=\"1\" class=\"dataframe\">\n",
       "  <thead>\n",
       "    <tr style=\"text-align: right;\">\n",
       "      <th></th>\n",
       "      <th>age</th>\n",
       "      <th>bmi</th>\n",
       "      <th>children</th>\n",
       "      <th>charges</th>\n",
       "    </tr>\n",
       "  </thead>\n",
       "  <tbody>\n",
       "    <tr>\n",
       "      <th>count</th>\n",
       "      <td>1338.000000</td>\n",
       "      <td>1338.000000</td>\n",
       "      <td>1338.000000</td>\n",
       "      <td>1338.000000</td>\n",
       "    </tr>\n",
       "    <tr>\n",
       "      <th>mean</th>\n",
       "      <td>39.207025</td>\n",
       "      <td>30.663397</td>\n",
       "      <td>1.094918</td>\n",
       "      <td>13270.422265</td>\n",
       "    </tr>\n",
       "    <tr>\n",
       "      <th>std</th>\n",
       "      <td>14.049960</td>\n",
       "      <td>6.098187</td>\n",
       "      <td>1.205493</td>\n",
       "      <td>12110.011237</td>\n",
       "    </tr>\n",
       "    <tr>\n",
       "      <th>min</th>\n",
       "      <td>18.000000</td>\n",
       "      <td>15.960000</td>\n",
       "      <td>0.000000</td>\n",
       "      <td>1121.873900</td>\n",
       "    </tr>\n",
       "    <tr>\n",
       "      <th>25%</th>\n",
       "      <td>27.000000</td>\n",
       "      <td>26.296250</td>\n",
       "      <td>0.000000</td>\n",
       "      <td>4740.287150</td>\n",
       "    </tr>\n",
       "    <tr>\n",
       "      <th>50%</th>\n",
       "      <td>39.000000</td>\n",
       "      <td>30.400000</td>\n",
       "      <td>1.000000</td>\n",
       "      <td>9382.033000</td>\n",
       "    </tr>\n",
       "    <tr>\n",
       "      <th>75%</th>\n",
       "      <td>51.000000</td>\n",
       "      <td>34.693750</td>\n",
       "      <td>2.000000</td>\n",
       "      <td>16639.912515</td>\n",
       "    </tr>\n",
       "    <tr>\n",
       "      <th>max</th>\n",
       "      <td>64.000000</td>\n",
       "      <td>53.130000</td>\n",
       "      <td>5.000000</td>\n",
       "      <td>63770.428010</td>\n",
       "    </tr>\n",
       "  </tbody>\n",
       "</table>\n",
       "</div>"
      ],
      "text/plain": [
       "               age          bmi     children       charges\n",
       "count  1338.000000  1338.000000  1338.000000   1338.000000\n",
       "mean     39.207025    30.663397     1.094918  13270.422265\n",
       "std      14.049960     6.098187     1.205493  12110.011237\n",
       "min      18.000000    15.960000     0.000000   1121.873900\n",
       "25%      27.000000    26.296250     0.000000   4740.287150\n",
       "50%      39.000000    30.400000     1.000000   9382.033000\n",
       "75%      51.000000    34.693750     2.000000  16639.912515\n",
       "max      64.000000    53.130000     5.000000  63770.428010"
      ]
     },
     "execution_count": 7,
     "metadata": {},
     "output_type": "execute_result"
    }
   ],
   "source": [
    "data.describe()"
   ]
  },
  {
   "cell_type": "markdown",
   "id": "3b1d621e",
   "metadata": {},
   "source": [
    "# Data Cleaning"
   ]
  },
  {
   "cell_type": "code",
   "execution_count": 8,
   "id": "853273f5",
   "metadata": {},
   "outputs": [
    {
     "data": {
      "text/plain": [
       "age         0\n",
       "sex         0\n",
       "bmi         0\n",
       "children    0\n",
       "smoker      0\n",
       "region      0\n",
       "charges     0\n",
       "dtype: int64"
      ]
     },
     "execution_count": 8,
     "metadata": {},
     "output_type": "execute_result"
    }
   ],
   "source": [
    "data.isna().sum()"
   ]
  },
  {
   "cell_type": "markdown",
   "id": "384dbc87",
   "metadata": {},
   "source": [
    "# Explorasi Data"
   ]
  },
  {
   "cell_type": "code",
   "execution_count": 9,
   "id": "8def2573",
   "metadata": {},
   "outputs": [
    {
     "data": {
      "image/png": "[encoded data removed]",
      "text/plain": [
       "<Figure size 720x360 with 2 Axes>"
      ]
     },
     "metadata": {
      "needs_background": "light"
     },
     "output_type": "display_data"
    }
   ],
   "source": [
    "plt.figure(figsize=(10,5))\n",
    "sns.heatmap(data.corr(), annot=True);"
   ]
  },
  {
   "cell_type": "markdown",
   "id": "9afc4b8b",
   "metadata": {},
   "source": [
    "Dari visaualisasi terlihat bahwa variabel age memiliki relasi positif tertinggi denga variabel charges yaitu 0.3"
   ]
  },
  {
   "cell_type": "code",
   "execution_count": 10,
   "id": "314b5f2a",
   "metadata": {},
   "outputs": [
    {
     "data": {
      "image/png": "[encoded data removed]",
      "text/plain": [
       "<Figure size 720x360 with 1 Axes>"
      ]
     },
     "metadata": {
      "needs_background": "light"
     },
     "output_type": "display_data"
    }
   ],
   "source": [
    "plt.figure(figsize=(10,5))\n",
    "sns.barplot(x='smoker', y='charges', data=data);"
   ]
  },
  {
   "cell_type": "markdown",
   "id": "01fcd5fb",
   "metadata": {},
   "source": [
    "dari visualisasi terlihat bahwa konsumen perokok membayar biaya asuransi lebih tinggi dari bukan perokok"
   ]
  },
  {
   "cell_type": "code",
   "execution_count": 11,
   "id": "bb19fd5d",
   "metadata": {},
   "outputs": [
    {
     "data": {
      "image/png": "[encoded data removed]",
      "text/plain": [
       "<Figure size 720x360 with 1 Axes>"
      ]
     },
     "metadata": {
      "needs_background": "light"
     },
     "output_type": "display_data"
    }
   ],
   "source": [
    "plt.figure(figsize=(10,5))\n",
    "sns.barplot(x='sex', y='charges', data=data);"
   ]
  },
  {
   "cell_type": "markdown",
   "id": "bd2d00ab",
   "metadata": {},
   "source": [
    "dari visualisasi terlihat bahwa konsumen pria membayar biaya asuransi lebih tinggi dibandingkan konsumen wanita"
   ]
  },
  {
   "cell_type": "code",
   "execution_count": 12,
   "id": "815e5605",
   "metadata": {},
   "outputs": [
    {
     "data": {
      "image/png": "[encoded data removed]",
      "text/plain": [
       "<Figure size 720x360 with 1 Axes>"
      ]
     },
     "metadata": {
      "needs_background": "light"
     },
     "output_type": "display_data"
    }
   ],
   "source": [
    "plt.figure(figsize=(10,5))\n",
    "sns.barplot(x='region', y='charges', data=data);"
   ]
  },
  {
   "cell_type": "markdown",
   "id": "9f6a5290",
   "metadata": {},
   "source": [
    "dari data visualisasi terlihat bahwa konsumen yang tinggal didaerah southeast membayar asuransi tertinggi dibandingkan daerah lainnya"
   ]
  },
  {
   "cell_type": "markdown",
   "id": "0a6f88a0",
   "metadata": {},
   "source": [
    "# Data Preprocessing"
   ]
  },
  {
   "cell_type": "markdown",
   "id": "8526578a",
   "metadata": {},
   "source": [
    "#### Mengubah data categorical menjadi data numeric"
   ]
  },
  {
   "cell_type": "code",
   "execution_count": 13,
   "id": "56ba57f9",
   "metadata": {},
   "outputs": [
    {
     "data": {
      "text/html": [
       "<div>\n",
       "<style scoped>\n",
       "    .dataframe tbody tr th:only-of-type {\n",
       "        vertical-align: middle;\n",
       "    }\n",
       "\n",
       "    .dataframe tbody tr th {\n",
       "        vertical-align: top;\n",
       "    }\n",
       "\n",
       "    .dataframe thead th {\n",
       "        text-align: right;\n",
       "    }\n",
       "</style>\n",
       "<table border=\"1\" class=\"dataframe\">\n",
       "  <thead>\n",
       "    <tr style=\"text-align: right;\">\n",
       "      <th></th>\n",
       "      <th>age</th>\n",
       "      <th>bmi</th>\n",
       "      <th>children</th>\n",
       "      <th>charges</th>\n",
       "      <th>sex_male</th>\n",
       "      <th>smoker_yes</th>\n",
       "      <th>region_northwest</th>\n",
       "      <th>region_southeast</th>\n",
       "      <th>region_southwest</th>\n",
       "    </tr>\n",
       "  </thead>\n",
       "  <tbody>\n",
       "    <tr>\n",
       "      <th>0</th>\n",
       "      <td>19</td>\n",
       "      <td>27.900</td>\n",
       "      <td>0</td>\n",
       "      <td>16884.92400</td>\n",
       "      <td>0</td>\n",
       "      <td>1</td>\n",
       "      <td>0</td>\n",
       "      <td>0</td>\n",
       "      <td>1</td>\n",
       "    </tr>\n",
       "    <tr>\n",
       "      <th>1</th>\n",
       "      <td>18</td>\n",
       "      <td>33.770</td>\n",
       "      <td>1</td>\n",
       "      <td>1725.55230</td>\n",
       "      <td>1</td>\n",
       "      <td>0</td>\n",
       "      <td>0</td>\n",
       "      <td>1</td>\n",
       "      <td>0</td>\n",
       "    </tr>\n",
       "    <tr>\n",
       "      <th>2</th>\n",
       "      <td>28</td>\n",
       "      <td>33.000</td>\n",
       "      <td>3</td>\n",
       "      <td>4449.46200</td>\n",
       "      <td>1</td>\n",
       "      <td>0</td>\n",
       "      <td>0</td>\n",
       "      <td>1</td>\n",
       "      <td>0</td>\n",
       "    </tr>\n",
       "    <tr>\n",
       "      <th>3</th>\n",
       "      <td>33</td>\n",
       "      <td>22.705</td>\n",
       "      <td>0</td>\n",
       "      <td>21984.47061</td>\n",
       "      <td>1</td>\n",
       "      <td>0</td>\n",
       "      <td>1</td>\n",
       "      <td>0</td>\n",
       "      <td>0</td>\n",
       "    </tr>\n",
       "    <tr>\n",
       "      <th>4</th>\n",
       "      <td>32</td>\n",
       "      <td>28.880</td>\n",
       "      <td>0</td>\n",
       "      <td>3866.85520</td>\n",
       "      <td>1</td>\n",
       "      <td>0</td>\n",
       "      <td>1</td>\n",
       "      <td>0</td>\n",
       "      <td>0</td>\n",
       "    </tr>\n",
       "  </tbody>\n",
       "</table>\n",
       "</div>"
      ],
      "text/plain": [
       "   age     bmi  children      charges  sex_male  smoker_yes  region_northwest  \\\n",
       "0   19  27.900         0  16884.92400         0           1                 0   \n",
       "1   18  33.770         1   1725.55230         1           0                 0   \n",
       "2   28  33.000         3   4449.46200         1           0                 0   \n",
       "3   33  22.705         0  21984.47061         1           0                 1   \n",
       "4   32  28.880         0   3866.85520         1           0                 1   \n",
       "\n",
       "   region_southeast  region_southwest  \n",
       "0                 0                 1  \n",
       "1                 1                 0  \n",
       "2                 1                 0  \n",
       "3                 0                 0  \n",
       "4                 0                 0  "
      ]
     },
     "execution_count": 13,
     "metadata": {},
     "output_type": "execute_result"
    }
   ],
   "source": [
    "data = pd.get_dummies(data, drop_first=True)\n",
    "data.head()"
   ]
  },
  {
   "cell_type": "markdown",
   "id": "3de90c03",
   "metadata": {},
   "source": [
    "mengubah data categorical pada variabel 'sex' , 'smoker' dan 'region' menjadi data numeric"
   ]
  },
  {
   "cell_type": "markdown",
   "id": "6cd22fae",
   "metadata": {},
   "source": [
    "#### Menentukan variabel independent (X) dan varibel dependent (y)"
   ]
  },
  {
   "cell_type": "code",
   "execution_count": 14,
   "id": "048c63eb",
   "metadata": {},
   "outputs": [],
   "source": [
    "X = data.drop('charges', axis=1)\n",
    "y = data['charges']"
   ]
  },
  {
   "cell_type": "markdown",
   "id": "f28ade92",
   "metadata": {},
   "source": [
    "#### Import Pustaka"
   ]
  },
  {
   "cell_type": "code",
   "execution_count": 15,
   "id": "df33638d",
   "metadata": {},
   "outputs": [],
   "source": [
    "from sklearn.linear_model import LinearRegression\n",
    "from sklearn.preprocessing import StandardScaler\n",
    "from sklearn.model_selection import train_test_split"
   ]
  },
  {
   "cell_type": "markdown",
   "id": "9bd89f03",
   "metadata": {},
   "source": [
    "#### Split Data"
   ]
  },
  {
   "cell_type": "code",
   "execution_count": 16,
   "id": "79da25c0",
   "metadata": {},
   "outputs": [],
   "source": [
    "X_train, X_test, y_train, y_test = train_test_split(X,y, test_size=0.3, random_state=42)"
   ]
  },
  {
   "cell_type": "markdown",
   "id": "3b150295",
   "metadata": {},
   "source": [
    "melakukan split data training sebesar 0.7 dan data test 0.3"
   ]
  },
  {
   "cell_type": "markdown",
   "id": "bb550a8b",
   "metadata": {},
   "source": [
    "#### Melakukan Regularisasi data "
   ]
  },
  {
   "cell_type": "code",
   "execution_count": 17,
   "id": "9f4c7707",
   "metadata": {},
   "outputs": [],
   "source": [
    "scaler = StandardScaler()\n",
    "scaler.fit(X_train)\n",
    "X_train_trf = scaler.transform(X_train)\n",
    "X_test_trf = scaler.transform(X_test)"
   ]
  },
  {
   "cell_type": "markdown",
   "id": "2bd1943d",
   "metadata": {},
   "source": [
    "# Pendefinisian Model"
   ]
  },
  {
   "cell_type": "code",
   "execution_count": 18,
   "id": "d17b2f40",
   "metadata": {},
   "outputs": [],
   "source": [
    "linear_model = LinearRegression(fit_intercept=True)"
   ]
  },
  {
   "cell_type": "markdown",
   "id": "08f1268d",
   "metadata": {},
   "source": [
    "Pemilihan Model Regression disebabkan karena objective yang ingin dicapai adalah melakukan prediksi terhadap biaya asuransi"
   ]
  },
  {
   "cell_type": "markdown",
   "id": "85ef9d06",
   "metadata": {},
   "source": [
    "# Pelatihan Model"
   ]
  },
  {
   "cell_type": "code",
   "execution_count": 19,
   "id": "124e9a5b",
   "metadata": {},
   "outputs": [
    {
     "name": "stdout",
     "output_type": "stream",
     "text": [
      "CPU times: user 5.78 ms, sys: 983 µs, total: 6.76 ms\n",
      "Wall time: 59.5 ms\n"
     ]
    },
    {
     "data": {
      "text/plain": [
       "LinearRegression()"
      ]
     },
     "execution_count": 19,
     "metadata": {},
     "output_type": "execute_result"
    }
   ],
   "source": [
    "%time linear_model.fit(X_train_trf, y_train)"
   ]
  },
  {
   "cell_type": "markdown",
   "id": "23a18a61",
   "metadata": {},
   "source": [
    "# Evaluasi Model"
   ]
  },
  {
   "cell_type": "markdown",
   "id": "dfc5047f",
   "metadata": {},
   "source": [
    "#### Import Pustaka "
   ]
  },
  {
   "cell_type": "code",
   "execution_count": 20,
   "id": "ad84fe8f",
   "metadata": {},
   "outputs": [],
   "source": [
    "from sklearn.metrics import r2_score, mean_absolute_error, mean_squared_error"
   ]
  },
  {
   "cell_type": "code",
   "execution_count": 21,
   "id": "20003414",
   "metadata": {},
   "outputs": [
    {
     "name": "stdout",
     "output_type": "stream",
     "text": [
      "CPU times: user 644 µs, sys: 59 µs, total: 703 µs\n",
      "Wall time: 715 µs\n"
     ]
    }
   ],
   "source": [
    "%time y_preds = linear_model.predict(X_test_trf)"
   ]
  },
  {
   "cell_type": "code",
   "execution_count": 22,
   "id": "3b9983ff",
   "metadata": {},
   "outputs": [
    {
     "data": {
      "text/plain": [
       "0.7696118054369009"
      ]
     },
     "execution_count": 22,
     "metadata": {},
     "output_type": "execute_result"
    }
   ],
   "source": [
    "linear_model.score(X_test_trf, y_test)"
   ]
  },
  {
   "cell_type": "code",
   "execution_count": 23,
   "id": "00f921cb",
   "metadata": {},
   "outputs": [
    {
     "data": {
      "text/plain": [
       "0.742398009060026"
      ]
     },
     "execution_count": 23,
     "metadata": {},
     "output_type": "execute_result"
    }
   ],
   "source": [
    "linear_model.score(X_train_trf, y_train)"
   ]
  },
  {
   "cell_type": "markdown",
   "id": "e5dda57e",
   "metadata": {},
   "source": [
    "#### Regression metrics"
   ]
  },
  {
   "cell_type": "code",
   "execution_count": 24,
   "id": "fe0b8d06",
   "metadata": {},
   "outputs": [
    {
     "name": "stdout",
     "output_type": "stream",
     "text": [
      "R2_score:  0.7696118054369009\n",
      "MAE:  4145.4505556276\n",
      "MSE:  33780509.57479167\n",
      "RMSE:  64.385173414596\n"
     ]
    }
   ],
   "source": [
    "R2_Score = r2_score(y_test, y_preds)\n",
    "MAE = mean_absolute_error(y_test, y_preds)\n",
    "MSE = mean_squared_error(y_test, y_preds)\n",
    "RMSE = np.sqrt(mean_absolute_error(y_test, y_preds))\n",
    "\n",
    "print('R2_score: ',R2_Score )\n",
    "print('MAE: ', MAE )\n",
    "print('MSE: ', MSE )\n",
    "print('RMSE: ', RMSE )"
   ]
  },
  {
   "cell_type": "markdown",
   "id": "6949a6d8",
   "metadata": {},
   "source": [
    "#### Visualisasi"
   ]
  },
  {
   "cell_type": "code",
   "execution_count": 25,
   "id": "b2e4738e",
   "metadata": {},
   "outputs": [],
   "source": [
    "y_preds_linear = linear_model.predict(X)"
   ]
  },
  {
   "cell_type": "code",
   "execution_count": 26,
   "id": "7d66c6df",
   "metadata": {},
   "outputs": [],
   "source": [
    "data['predicted'] = y_preds_linear"
   ]
  },
  {
   "cell_type": "code",
   "execution_count": 27,
   "id": "4783dda4",
   "metadata": {},
   "outputs": [
    {
     "data": {
      "image/png": "[encoded data removed]",
      "text/plain": [
       "<Figure size 432x288 with 1 Axes>"
      ]
     },
     "metadata": {
      "needs_background": "light"
     },
     "output_type": "display_data"
    }
   ],
   "source": [
    "data[['charges','predicted']].plot(alpha=0.5);"
   ]
  },
  {
   "cell_type": "markdown",
   "id": "db5de473",
   "metadata": {},
   "source": [
    "# Model Inference"
   ]
  },
  {
   "cell_type": "markdown",
   "id": "1cfae705",
   "metadata": {},
   "source": [
    "#### Menggunakan data X_test"
   ]
  },
  {
   "cell_type": "code",
   "execution_count": 28,
   "id": "b8056f89",
   "metadata": {},
   "outputs": [
    {
     "data": {
      "text/html": [
       "<div>\n",
       "<style scoped>\n",
       "    .dataframe tbody tr th:only-of-type {\n",
       "        vertical-align: middle;\n",
       "    }\n",
       "\n",
       "    .dataframe tbody tr th {\n",
       "        vertical-align: top;\n",
       "    }\n",
       "\n",
       "    .dataframe thead th {\n",
       "        text-align: right;\n",
       "    }\n",
       "</style>\n",
       "<table border=\"1\" class=\"dataframe\">\n",
       "  <thead>\n",
       "    <tr style=\"text-align: right;\">\n",
       "      <th></th>\n",
       "      <th>age</th>\n",
       "      <th>bmi</th>\n",
       "      <th>children</th>\n",
       "      <th>sex_male</th>\n",
       "      <th>smoker_yes</th>\n",
       "      <th>region_northwest</th>\n",
       "      <th>region_southeast</th>\n",
       "      <th>region_southwest</th>\n",
       "    </tr>\n",
       "  </thead>\n",
       "  <tbody>\n",
       "    <tr>\n",
       "      <th>764</th>\n",
       "      <td>45</td>\n",
       "      <td>25.175</td>\n",
       "      <td>2</td>\n",
       "      <td>0</td>\n",
       "      <td>0</td>\n",
       "      <td>0</td>\n",
       "      <td>0</td>\n",
       "      <td>0</td>\n",
       "    </tr>\n",
       "    <tr>\n",
       "      <th>887</th>\n",
       "      <td>36</td>\n",
       "      <td>30.020</td>\n",
       "      <td>0</td>\n",
       "      <td>0</td>\n",
       "      <td>0</td>\n",
       "      <td>1</td>\n",
       "      <td>0</td>\n",
       "      <td>0</td>\n",
       "    </tr>\n",
       "    <tr>\n",
       "      <th>890</th>\n",
       "      <td>64</td>\n",
       "      <td>26.885</td>\n",
       "      <td>0</td>\n",
       "      <td>0</td>\n",
       "      <td>1</td>\n",
       "      <td>1</td>\n",
       "      <td>0</td>\n",
       "      <td>0</td>\n",
       "    </tr>\n",
       "    <tr>\n",
       "      <th>1293</th>\n",
       "      <td>46</td>\n",
       "      <td>25.745</td>\n",
       "      <td>3</td>\n",
       "      <td>1</td>\n",
       "      <td>0</td>\n",
       "      <td>1</td>\n",
       "      <td>0</td>\n",
       "      <td>0</td>\n",
       "    </tr>\n",
       "    <tr>\n",
       "      <th>259</th>\n",
       "      <td>19</td>\n",
       "      <td>31.920</td>\n",
       "      <td>0</td>\n",
       "      <td>1</td>\n",
       "      <td>1</td>\n",
       "      <td>1</td>\n",
       "      <td>0</td>\n",
       "      <td>0</td>\n",
       "    </tr>\n",
       "    <tr>\n",
       "      <th>...</th>\n",
       "      <td>...</td>\n",
       "      <td>...</td>\n",
       "      <td>...</td>\n",
       "      <td>...</td>\n",
       "      <td>...</td>\n",
       "      <td>...</td>\n",
       "      <td>...</td>\n",
       "      <td>...</td>\n",
       "    </tr>\n",
       "    <tr>\n",
       "      <th>701</th>\n",
       "      <td>50</td>\n",
       "      <td>44.745</td>\n",
       "      <td>0</td>\n",
       "      <td>0</td>\n",
       "      <td>0</td>\n",
       "      <td>0</td>\n",
       "      <td>0</td>\n",
       "      <td>0</td>\n",
       "    </tr>\n",
       "    <tr>\n",
       "      <th>672</th>\n",
       "      <td>36</td>\n",
       "      <td>29.700</td>\n",
       "      <td>0</td>\n",
       "      <td>1</td>\n",
       "      <td>0</td>\n",
       "      <td>0</td>\n",
       "      <td>1</td>\n",
       "      <td>0</td>\n",
       "    </tr>\n",
       "    <tr>\n",
       "      <th>1163</th>\n",
       "      <td>18</td>\n",
       "      <td>28.215</td>\n",
       "      <td>0</td>\n",
       "      <td>0</td>\n",
       "      <td>0</td>\n",
       "      <td>0</td>\n",
       "      <td>0</td>\n",
       "      <td>0</td>\n",
       "    </tr>\n",
       "    <tr>\n",
       "      <th>1103</th>\n",
       "      <td>58</td>\n",
       "      <td>36.080</td>\n",
       "      <td>0</td>\n",
       "      <td>1</td>\n",
       "      <td>0</td>\n",
       "      <td>0</td>\n",
       "      <td>1</td>\n",
       "      <td>0</td>\n",
       "    </tr>\n",
       "    <tr>\n",
       "      <th>1295</th>\n",
       "      <td>20</td>\n",
       "      <td>22.000</td>\n",
       "      <td>1</td>\n",
       "      <td>1</td>\n",
       "      <td>0</td>\n",
       "      <td>0</td>\n",
       "      <td>0</td>\n",
       "      <td>1</td>\n",
       "    </tr>\n",
       "  </tbody>\n",
       "</table>\n",
       "<p>402 rows × 8 columns</p>\n",
       "</div>"
      ],
      "text/plain": [
       "      age     bmi  children  sex_male  smoker_yes  region_northwest  \\\n",
       "764    45  25.175         2         0           0                 0   \n",
       "887    36  30.020         0         0           0                 1   \n",
       "890    64  26.885         0         0           1                 1   \n",
       "1293   46  25.745         3         1           0                 1   \n",
       "259    19  31.920         0         1           1                 1   \n",
       "...   ...     ...       ...       ...         ...               ...   \n",
       "701    50  44.745         0         0           0                 0   \n",
       "672    36  29.700         0         1           0                 0   \n",
       "1163   18  28.215         0         0           0                 0   \n",
       "1103   58  36.080         0         1           0                 0   \n",
       "1295   20  22.000         1         1           0                 0   \n",
       "\n",
       "      region_southeast  region_southwest  \n",
       "764                  0                 0  \n",
       "887                  0                 0  \n",
       "890                  0                 0  \n",
       "1293                 0                 0  \n",
       "259                  0                 0  \n",
       "...                ...               ...  \n",
       "701                  0                 0  \n",
       "672                  1                 0  \n",
       "1163                 0                 0  \n",
       "1103                 1                 0  \n",
       "1295                 0                 1  \n",
       "\n",
       "[402 rows x 8 columns]"
      ]
     },
     "execution_count": 28,
     "metadata": {},
     "output_type": "execute_result"
    }
   ],
   "source": [
    "X_test"
   ]
  },
  {
   "cell_type": "markdown",
   "id": "b7b808b4",
   "metadata": {},
   "source": [
    "#### melakukan prediksi dengan menggunakan data X_test"
   ]
  },
  {
   "cell_type": "code",
   "execution_count": 29,
   "id": "766b3ced",
   "metadata": {},
   "outputs": [
    {
     "data": {
      "text/plain": [
       "array([233034.31853563, 208730.58157335, 315051.50085048, 238271.85722441,\n",
       "       159645.82007713, 228667.19068298, 130331.72859902, 328550.81749561,\n",
       "       152812.83917723, 255495.59541568, 185853.31336744, 229445.802177  ,\n",
       "       182308.45655871, 282371.8072069 , 329479.77415321, 278416.06417914,\n",
       "       283965.30560981, 273019.44689768, 241794.2341239 , 237591.25386091,\n",
       "       157797.07754014, 240841.18530547, 146686.94630388, 177760.15627137,\n",
       "       257939.92115903, 280896.458783  , 307694.15823196, 177869.98285117,\n",
       "       243391.15682914, 142422.45535531, 223850.80140902, 289965.07965342,\n",
       "       163326.23599918, 167084.8050551 , 172184.65310367, 262649.95832212,\n",
       "       146161.75626992, 234629.07886871, 265541.82714143, 229507.29358639,\n",
       "       145440.87953916, 160437.85631771, 294917.54755945, 284085.43350075,\n",
       "       210509.74826125, 288680.40378784, 161978.38311176, 157553.04078543,\n",
       "       257965.49145561, 208652.81616323, 321236.85688105, 141326.41062664,\n",
       "       247836.3132452 , 134453.36182262, 291558.9972827 , 266030.693146  ,\n",
       "       177325.84654273, 210615.65381772, 296134.99618386, 278399.74435844,\n",
       "       311859.61494948, 214802.26404718, 315068.1987479 , 221361.95382583,\n",
       "       269745.04131255, 171194.21350491, 155888.38544547, 261556.02272591,\n",
       "       152977.25134246, 176780.77616383, 231583.20056297, 251621.26129334,\n",
       "       259697.84546417, 225510.94478696, 255400.34474416, 208304.54457025,\n",
       "       182700.52735121, 273364.58483807, 186264.19958646, 234252.10155272,\n",
       "       156469.90482595, 307538.75911465, 194359.58759909, 185517.37662618,\n",
       "       214208.67128276, 274002.57972366, 191217.65134848, 284626.74989703,\n",
       "       236969.22466999, 286605.0321451 , 322755.92478144, 306690.1270671 ,\n",
       "       251479.77742189, 186611.30720727, 219591.59282519, 232627.61979188,\n",
       "       201642.40440687, 155727.4868595 , 184427.82019782, 192572.88033958,\n",
       "       183736.14453502, 143498.06087157, 248420.76680561, 296625.282798  ,\n",
       "       287897.67434161, 153516.92799926, 240503.71431065, 261797.91518533,\n",
       "       124719.76690504, 266399.72581913, 152332.64045586, 206716.59897907,\n",
       "       295568.88076377, 215645.52840057, 258994.67055194, 156326.14746599,\n",
       "       294538.62045192, 238047.77757076, 214861.25306133, 155783.35814976,\n",
       "       208830.68735238, 236994.30435798, 286466.02726435, 176514.46210606,\n",
       "       167338.05163527, 234558.17814594, 246599.15811453, 257060.61129078,\n",
       "       304182.42650366, 185476.41581218, 191480.1239546 , 215410.81134206,\n",
       "       218064.53572175, 259419.25293313, 225424.61622403, 308753.98299488,\n",
       "       208852.00991901, 240283.82870729, 266507.72591891, 223813.51683611,\n",
       "       202175.30336355, 272413.09153813, 182971.58943903, 284468.89856483,\n",
       "       159042.14721528, 257931.56777438, 193381.85844736, 188179.25871814,\n",
       "       278910.60144757, 206427.40073052, 296876.85996621, 156806.10421888,\n",
       "       165423.43153005, 211896.35699808, 238671.34371711, 211348.72434357,\n",
       "       309265.64421863, 248242.93445485, 161864.78159876, 239617.21936979,\n",
       "       294891.03560192, 137599.67520662, 303664.44745658, 149519.3162705 ,\n",
       "       167792.64489284, 246697.12387379, 333792.37033797, 298170.43426126,\n",
       "       251391.88021616, 168556.95697914, 238777.99663562, 225311.34047737,\n",
       "       246477.80300933, 182312.35175606, 150800.01434019, 249610.83988065,\n",
       "       150637.12031939, 333718.19969864, 178974.98573156, 271888.40337791,\n",
       "       313360.04636003, 126513.55647975, 228020.4815819 , 209377.62192835,\n",
       "       169021.34554211, 171420.15109186, 182891.65790271, 181563.27856047,\n",
       "       281594.34990822, 273899.93100827, 176993.03536274, 140757.60655698,\n",
       "       142997.31728001, 213910.74717926, 322890.88689247, 272373.66336635,\n",
       "       135017.29288155, 273978.71422067, 134798.26272989, 250943.84690852,\n",
       "       155555.87654617, 271834.11522312, 217154.75034586, 141344.40419917,\n",
       "       152956.8319727 , 173892.7052258 , 252874.63273329, 140357.16665457,\n",
       "       274010.83937372, 149206.50115907, 286477.04296641, 273858.28802903,\n",
       "       284596.29713658, 175086.71571372, 213788.87393987, 182438.22251166,\n",
       "       194302.67217766, 290313.84327727, 285560.06280414, 214100.36569198,\n",
       "       165320.52137783, 258156.11519803, 248319.06127598, 261821.65332525,\n",
       "       161512.99106804, 192124.29208707, 126142.77884881, 147268.92479032,\n",
       "       264429.71446646, 282463.24543771, 167518.80039184, 239030.08534926,\n",
       "       172420.649292  , 239372.21666232, 243314.60292195, 270799.12971128,\n",
       "       174712.98871001, 239261.05165946, 262910.88645075, 164767.1102529 ,\n",
       "       273032.59399319, 204860.78253204, 177492.47181268, 171932.73627401,\n",
       "       135946.17151885, 174082.23109136, 174795.95982082, 197452.64899465,\n",
       "       305083.48717509, 119855.9431857 , 148650.34254539, 235935.15349107,\n",
       "       170213.21629578, 270111.28098694, 150312.94203775, 173074.35808073,\n",
       "       294782.36034195, 180555.59852201, 241250.93853102, 193032.28595672,\n",
       "       222245.95802465, 282272.55066463, 183145.4843769 , 328355.00635054,\n",
       "       283920.06792582, 212711.94511051, 320866.46227522, 273129.03507504,\n",
       "       225588.11249122, 237595.63456034, 256741.42656955, 231140.8026279 ,\n",
       "       258789.1183224 , 332099.70436439, 144945.2204048 , 134514.27986678,\n",
       "       247700.73788933, 231531.14171339, 186751.59309421, 275461.75602832,\n",
       "       256483.51824885, 331687.42627934, 239230.22041444, 264991.96518171,\n",
       "       226289.76941036, 160472.08894672, 280478.00910757, 302839.23393448,\n",
       "       182408.70041373, 179928.59802473, 146518.30558983, 282043.81250476,\n",
       "       161138.68492153, 267031.43135991, 232393.80212997, 262872.1711887 ,\n",
       "       273207.23548889, 150804.08651498, 152754.21396082, 195080.7109817 ,\n",
       "       212447.9614547 , 252882.1064349 , 148244.58331624, 147843.86643803,\n",
       "       293762.37430462, 207551.80012819, 151114.44485048, 329513.4821613 ,\n",
       "       227538.89763258, 159390.78904341, 201548.26532105, 142706.46919713,\n",
       "       165488.44608962, 311098.42872719, 137641.05383146, 278113.43921628,\n",
       "       284880.28719   , 303387.25776098, 244582.79026415, 291476.08434953,\n",
       "       250715.31161134, 233925.65384786, 330182.05711391, 189866.38283129,\n",
       "       241104.20483866, 240063.46013257, 305095.28371234, 261380.08402352,\n",
       "       192004.22254909, 302401.70440655, 292301.13903411, 300272.01049156,\n",
       "       207548.1125589 , 155936.91647454, 234390.17133902, 151210.77076096,\n",
       "       172693.62364337, 284681.91184362, 271921.78677015, 244117.85420815,\n",
       "       300376.53593335, 196288.77252277, 173016.83988898, 162832.9240518 ,\n",
       "       142744.05449934, 237475.73403082, 212797.97680877, 144900.17405333,\n",
       "       269937.02377872, 240848.93841148, 195934.34872487, 133025.61999132,\n",
       "       255564.65326888, 172551.90747514, 224721.66351372, 168809.03613037,\n",
       "       290249.88295675, 186104.79983469, 238856.4959024 , 229047.55813762,\n",
       "       156387.03453144, 234937.64151385, 215235.96852829, 212060.25970168,\n",
       "       266111.98034708, 208818.56817381, 298075.56819525, 217677.11155672,\n",
       "       241701.89269621, 264872.10359988, 228098.0506093 , 315177.40231977,\n",
       "       226222.59483025, 174849.51747559, 127342.77576332, 280129.18859927,\n",
       "       226177.406423  , 284704.28150832, 268506.01560996, 193099.74265684,\n",
       "       160191.53337334, 224205.86725418, 237711.88659317, 248604.77369644,\n",
       "       263810.16979588, 329840.08557865, 287561.90506419, 233273.12723728,\n",
       "       318478.29189686, 278489.75998725, 226789.36480711, 216959.81591692,\n",
       "       218047.10835247, 159525.39035261, 257135.34221987, 180953.67899429,\n",
       "       279616.11329473, 291370.0148911 , 207896.91372796, 138771.15861461,\n",
       "       302386.31008887, 133325.17129126])"
      ]
     },
     "execution_count": 29,
     "metadata": {},
     "output_type": "execute_result"
    }
   ],
   "source": [
    "prediction = linear_model.predict(X_test)\n",
    "prediction"
   ]
  },
  {
   "cell_type": "markdown",
   "id": "c694913d",
   "metadata": {},
   "source": [
    "# Pengambilan Keputusan"
   ]
  },
  {
   "cell_type": "code",
   "execution_count": 30,
   "id": "acf34992",
   "metadata": {},
   "outputs": [
    {
     "data": {
      "text/plain": [
       "age                 3688.583190\n",
       "bmi                 2090.997834\n",
       "children             514.023604\n",
       "sex_male              52.388681\n",
       "smoker_yes          9595.868167\n",
       "region_northwest    -209.325551\n",
       "region_southeast    -426.262771\n",
       "region_southwest    -394.014449\n",
       "dtype: float64"
      ]
     },
     "execution_count": 30,
     "metadata": {},
     "output_type": "execute_result"
    }
   ],
   "source": [
    "params = pd.Series(linear_model.coef_, index=X.columns )\n",
    "params"
   ]
  },
  {
   "cell_type": "code",
   "execution_count": 31,
   "id": "c9d63130",
   "metadata": {},
   "outputs": [
    {
     "data": {
      "text/html": [
       "<div>\n",
       "<style scoped>\n",
       "    .dataframe tbody tr th:only-of-type {\n",
       "        vertical-align: middle;\n",
       "    }\n",
       "\n",
       "    .dataframe tbody tr th {\n",
       "        vertical-align: top;\n",
       "    }\n",
       "\n",
       "    .dataframe thead th {\n",
       "        text-align: right;\n",
       "    }\n",
       "</style>\n",
       "<table border=\"1\" class=\"dataframe\">\n",
       "  <thead>\n",
       "    <tr style=\"text-align: right;\">\n",
       "      <th></th>\n",
       "      <th>Coefficients</th>\n",
       "    </tr>\n",
       "  </thead>\n",
       "  <tbody>\n",
       "    <tr>\n",
       "      <th>age</th>\n",
       "      <td>3689.0</td>\n",
       "    </tr>\n",
       "    <tr>\n",
       "      <th>bmi</th>\n",
       "      <td>2091.0</td>\n",
       "    </tr>\n",
       "    <tr>\n",
       "      <th>children</th>\n",
       "      <td>514.0</td>\n",
       "    </tr>\n",
       "    <tr>\n",
       "      <th>sex_male</th>\n",
       "      <td>52.0</td>\n",
       "    </tr>\n",
       "    <tr>\n",
       "      <th>smoker_yes</th>\n",
       "      <td>9596.0</td>\n",
       "    </tr>\n",
       "    <tr>\n",
       "      <th>region_northwest</th>\n",
       "      <td>-209.0</td>\n",
       "    </tr>\n",
       "    <tr>\n",
       "      <th>region_southeast</th>\n",
       "      <td>-426.0</td>\n",
       "    </tr>\n",
       "    <tr>\n",
       "      <th>region_southwest</th>\n",
       "      <td>-394.0</td>\n",
       "    </tr>\n",
       "  </tbody>\n",
       "</table>\n",
       "</div>"
      ],
      "text/plain": [
       "                  Coefficients\n",
       "age                     3689.0\n",
       "bmi                     2091.0\n",
       "children                 514.0\n",
       "sex_male                  52.0\n",
       "smoker_yes              9596.0\n",
       "region_northwest        -209.0\n",
       "region_southeast        -426.0\n",
       "region_southwest        -394.0"
      ]
     },
     "execution_count": 31,
     "metadata": {},
     "output_type": "execute_result"
    }
   ],
   "source": [
    "analisis = pd.DataFrame(params.round(0), X.columns, columns=['Coefficients'])\n",
    "analisis"
   ]
  },
  {
   "cell_type": "markdown",
   "id": "f5248cbe",
   "metadata": {},
   "source": [
    "### Pengambilan keputusan berdasarkan dari model analysis:\n",
    "\n",
    "Pemilihan Model Regression disebabkan karena objective yang ingin dicapai adalah melakukan prediksi terhadap biaya asuransi\n",
    "\n",
    "Dengan menggunakan model Linear Regression terdapat beberapa variabel yang memiliki relasi positif terhadap variabel charges, yaitu:\n",
    "\n",
    "* Dengan memegang fitur lain tetap, peningkatan rata-rata 1 unit variabel age akan dikaitkan dengan peningkatan total 3689 variabel charges \n",
    "\n",
    "* Dengan memegang fitur lain tetap, peningkatan rata-rata 1 unit variabel bmi akan dikaitkan dengan peningkatan total 2091.0 variabel charges \n",
    "\n",
    "* Dengan memegang fitur lain tetap, peningkatan rata-rata 1 unit variabel children akan dikaitkan dengan peningkatan total 514 variabel charges \n",
    "\n",
    "* Dengan memegang fitur lain tetap, peningkatan rata-rata 1 unit variabel sex_male akan dikaitkan dengan peningkatan total 52 variabel charges \n",
    "\n",
    "* Dengan memegang fitur lain tetap, peningkatan rata-rata 1 unit variabel smoker_yes akan dikaitkan dengan peningkatan total 9596 variabel charges \n",
    "\n",
    "\n",
    "Dengan menggunakan model Linear Regression diperoleh score:\n",
    "* MAE:  4145.4505556276\n",
    "* MSE:  33780509.57479167\n",
    "* RMSE:  64.385173414596"
   ]
  },
  {
   "cell_type": "markdown",
   "id": "ad7a15ad",
   "metadata": {},
   "source": [
    "-------------------------------------------------------------------------------------------------------------------"
   ]
  },
  {
   "cell_type": "markdown",
   "id": "9e37a500",
   "metadata": {},
   "source": [
    "# Classification"
   ]
  },
  {
   "cell_type": "markdown",
   "id": "7563bec8",
   "metadata": {},
   "source": [
    "# Data Loading"
   ]
  },
  {
   "cell_type": "code",
   "execution_count": 32,
   "id": "1b9b9c43",
   "metadata": {},
   "outputs": [],
   "source": [
    "df = pd.read_csv('https://raw.githubusercontent.com/fahmimnalfrzki/Dataset/main/GalaxyMorphology.csv')"
   ]
  },
  {
   "cell_type": "code",
   "execution_count": 33,
   "id": "872d2b7b",
   "metadata": {},
   "outputs": [
    {
     "data": {
      "text/html": [
       "<div>\n",
       "<style scoped>\n",
       "    .dataframe tbody tr th:only-of-type {\n",
       "        vertical-align: middle;\n",
       "    }\n",
       "\n",
       "    .dataframe tbody tr th {\n",
       "        vertical-align: top;\n",
       "    }\n",
       "\n",
       "    .dataframe thead th {\n",
       "        text-align: right;\n",
       "    }\n",
       "</style>\n",
       "<table border=\"1\" class=\"dataframe\">\n",
       "  <thead>\n",
       "    <tr style=\"text-align: right;\">\n",
       "      <th></th>\n",
       "      <th>Unnamed: 0</th>\n",
       "      <th>TType</th>\n",
       "      <th>K</th>\n",
       "      <th>C</th>\n",
       "      <th>A</th>\n",
       "      <th>S</th>\n",
       "      <th>G2</th>\n",
       "      <th>H</th>\n",
       "      <th>CNN2classes1stClass</th>\n",
       "    </tr>\n",
       "  </thead>\n",
       "  <tbody>\n",
       "    <tr>\n",
       "      <th>0</th>\n",
       "      <td>0</td>\n",
       "      <td>1.854829</td>\n",
       "      <td>6.560199</td>\n",
       "      <td>0.357051</td>\n",
       "      <td>0.932151</td>\n",
       "      <td>0.850992</td>\n",
       "      <td>1.588183</td>\n",
       "      <td>0.697214</td>\n",
       "      <td>1</td>\n",
       "    </tr>\n",
       "    <tr>\n",
       "      <th>1</th>\n",
       "      <td>1</td>\n",
       "      <td>4.815538</td>\n",
       "      <td>25.950829</td>\n",
       "      <td>0.313292</td>\n",
       "      <td>0.610999</td>\n",
       "      <td>0.723122</td>\n",
       "      <td>1.533653</td>\n",
       "      <td>0.719412</td>\n",
       "      <td>1</td>\n",
       "    </tr>\n",
       "    <tr>\n",
       "      <th>2</th>\n",
       "      <td>2</td>\n",
       "      <td>0.678056</td>\n",
       "      <td>6.867416</td>\n",
       "      <td>0.408286</td>\n",
       "      <td>0.881524</td>\n",
       "      <td>0.813231</td>\n",
       "      <td>1.743747</td>\n",
       "      <td>0.750872</td>\n",
       "      <td>1</td>\n",
       "    </tr>\n",
       "    <tr>\n",
       "      <th>3</th>\n",
       "      <td>3</td>\n",
       "      <td>-0.547708</td>\n",
       "      <td>11.877941</td>\n",
       "      <td>-9999.999999</td>\n",
       "      <td>0.838779</td>\n",
       "      <td>0.816965</td>\n",
       "      <td>1.672529</td>\n",
       "      <td>0.771995</td>\n",
       "      <td>1</td>\n",
       "    </tr>\n",
       "    <tr>\n",
       "      <th>4</th>\n",
       "      <td>4</td>\n",
       "      <td>2.028543</td>\n",
       "      <td>20.458965</td>\n",
       "      <td>0.446453</td>\n",
       "      <td>0.839216</td>\n",
       "      <td>0.801140</td>\n",
       "      <td>1.107665</td>\n",
       "      <td>0.610453</td>\n",
       "      <td>1</td>\n",
       "    </tr>\n",
       "  </tbody>\n",
       "</table>\n",
       "</div>"
      ],
      "text/plain": [
       "   Unnamed: 0     TType          K            C         A         S        G2  \\\n",
       "0           0  1.854829   6.560199     0.357051  0.932151  0.850992  1.588183   \n",
       "1           1  4.815538  25.950829     0.313292  0.610999  0.723122  1.533653   \n",
       "2           2  0.678056   6.867416     0.408286  0.881524  0.813231  1.743747   \n",
       "3           3 -0.547708  11.877941 -9999.999999  0.838779  0.816965  1.672529   \n",
       "4           4  2.028543  20.458965     0.446453  0.839216  0.801140  1.107665   \n",
       "\n",
       "          H  CNN2classes1stClass  \n",
       "0  0.697214                    1  \n",
       "1  0.719412                    1  \n",
       "2  0.750872                    1  \n",
       "3  0.771995                    1  \n",
       "4  0.610453                    1  "
      ]
     },
     "execution_count": 33,
     "metadata": {},
     "output_type": "execute_result"
    }
   ],
   "source": [
    "df.head()"
   ]
  },
  {
   "cell_type": "code",
   "execution_count": 34,
   "id": "e8a66554",
   "metadata": {},
   "outputs": [
    {
     "data": {
      "text/html": [
       "<div>\n",
       "<style scoped>\n",
       "    .dataframe tbody tr th:only-of-type {\n",
       "        vertical-align: middle;\n",
       "    }\n",
       "\n",
       "    .dataframe tbody tr th {\n",
       "        vertical-align: top;\n",
       "    }\n",
       "\n",
       "    .dataframe thead th {\n",
       "        text-align: right;\n",
       "    }\n",
       "</style>\n",
       "<table border=\"1\" class=\"dataframe\">\n",
       "  <thead>\n",
       "    <tr style=\"text-align: right;\">\n",
       "      <th></th>\n",
       "      <th>Unnamed: 0</th>\n",
       "      <th>TType</th>\n",
       "      <th>K</th>\n",
       "      <th>C</th>\n",
       "      <th>A</th>\n",
       "      <th>S</th>\n",
       "      <th>G2</th>\n",
       "      <th>H</th>\n",
       "      <th>CNN2classes1stClass</th>\n",
       "    </tr>\n",
       "  </thead>\n",
       "  <tbody>\n",
       "    <tr>\n",
       "      <th>19995</th>\n",
       "      <td>19995</td>\n",
       "      <td>4.631655</td>\n",
       "      <td>29.018608</td>\n",
       "      <td>0.358020</td>\n",
       "      <td>0.602471</td>\n",
       "      <td>0.832848</td>\n",
       "      <td>1.611594</td>\n",
       "      <td>0.735315</td>\n",
       "      <td>1</td>\n",
       "    </tr>\n",
       "    <tr>\n",
       "      <th>19996</th>\n",
       "      <td>19996</td>\n",
       "      <td>-2.179893</td>\n",
       "      <td>15.245582</td>\n",
       "      <td>0.470026</td>\n",
       "      <td>0.842624</td>\n",
       "      <td>0.868289</td>\n",
       "      <td>1.313089</td>\n",
       "      <td>0.649996</td>\n",
       "      <td>1</td>\n",
       "    </tr>\n",
       "    <tr>\n",
       "      <th>19997</th>\n",
       "      <td>19997</td>\n",
       "      <td>1.876151</td>\n",
       "      <td>6.907812</td>\n",
       "      <td>0.323334</td>\n",
       "      <td>0.830340</td>\n",
       "      <td>0.950820</td>\n",
       "      <td>1.406042</td>\n",
       "      <td>0.671217</td>\n",
       "      <td>1</td>\n",
       "    </tr>\n",
       "    <tr>\n",
       "      <th>19998</th>\n",
       "      <td>19998</td>\n",
       "      <td>5.053256</td>\n",
       "      <td>27.981613</td>\n",
       "      <td>0.393574</td>\n",
       "      <td>0.632766</td>\n",
       "      <td>0.825990</td>\n",
       "      <td>1.659363</td>\n",
       "      <td>0.379448</td>\n",
       "      <td>1</td>\n",
       "    </tr>\n",
       "    <tr>\n",
       "      <th>19999</th>\n",
       "      <td>19999</td>\n",
       "      <td>-0.558501</td>\n",
       "      <td>6.557439</td>\n",
       "      <td>0.346322</td>\n",
       "      <td>0.878231</td>\n",
       "      <td>0.882251</td>\n",
       "      <td>1.616493</td>\n",
       "      <td>0.738060</td>\n",
       "      <td>1</td>\n",
       "    </tr>\n",
       "  </tbody>\n",
       "</table>\n",
       "</div>"
      ],
      "text/plain": [
       "       Unnamed: 0     TType          K         C         A         S  \\\n",
       "19995       19995  4.631655  29.018608  0.358020  0.602471  0.832848   \n",
       "19996       19996 -2.179893  15.245582  0.470026  0.842624  0.868289   \n",
       "19997       19997  1.876151   6.907812  0.323334  0.830340  0.950820   \n",
       "19998       19998  5.053256  27.981613  0.393574  0.632766  0.825990   \n",
       "19999       19999 -0.558501   6.557439  0.346322  0.878231  0.882251   \n",
       "\n",
       "             G2         H  CNN2classes1stClass  \n",
       "19995  1.611594  0.735315                    1  \n",
       "19996  1.313089  0.649996                    1  \n",
       "19997  1.406042  0.671217                    1  \n",
       "19998  1.659363  0.379448                    1  \n",
       "19999  1.616493  0.738060                    1  "
      ]
     },
     "execution_count": 34,
     "metadata": {},
     "output_type": "execute_result"
    }
   ],
   "source": [
    "df.tail()"
   ]
  },
  {
   "cell_type": "code",
   "execution_count": 35,
   "id": "a2f5bd98",
   "metadata": {},
   "outputs": [
    {
     "name": "stdout",
     "output_type": "stream",
     "text": [
      "<class 'pandas.core.frame.DataFrame'>\n",
      "RangeIndex: 20000 entries, 0 to 19999\n",
      "Data columns (total 9 columns):\n",
      " #   Column               Non-Null Count  Dtype  \n",
      "---  ------               --------------  -----  \n",
      " 0   Unnamed: 0           20000 non-null  int64  \n",
      " 1   TType                20000 non-null  float64\n",
      " 2   K                    20000 non-null  float64\n",
      " 3   C                    20000 non-null  float64\n",
      " 4   A                    20000 non-null  float64\n",
      " 5   S                    20000 non-null  float64\n",
      " 6   G2                   20000 non-null  float64\n",
      " 7   H                    20000 non-null  float64\n",
      " 8   CNN2classes1stClass  20000 non-null  int64  \n",
      "dtypes: float64(7), int64(2)\n",
      "memory usage: 1.4 MB\n"
     ]
    }
   ],
   "source": [
    "df.info()"
   ]
  },
  {
   "cell_type": "code",
   "execution_count": 36,
   "id": "273db697",
   "metadata": {},
   "outputs": [
    {
     "data": {
      "text/html": [
       "<div>\n",
       "<style scoped>\n",
       "    .dataframe tbody tr th:only-of-type {\n",
       "        vertical-align: middle;\n",
       "    }\n",
       "\n",
       "    .dataframe tbody tr th {\n",
       "        vertical-align: top;\n",
       "    }\n",
       "\n",
       "    .dataframe thead th {\n",
       "        text-align: right;\n",
       "    }\n",
       "</style>\n",
       "<table border=\"1\" class=\"dataframe\">\n",
       "  <thead>\n",
       "    <tr style=\"text-align: right;\">\n",
       "      <th></th>\n",
       "      <th>Unnamed: 0</th>\n",
       "      <th>TType</th>\n",
       "      <th>K</th>\n",
       "      <th>C</th>\n",
       "      <th>A</th>\n",
       "      <th>S</th>\n",
       "      <th>G2</th>\n",
       "      <th>H</th>\n",
       "      <th>CNN2classes1stClass</th>\n",
       "    </tr>\n",
       "  </thead>\n",
       "  <tbody>\n",
       "    <tr>\n",
       "      <th>count</th>\n",
       "      <td>20000.000000</td>\n",
       "      <td>20000.000000</td>\n",
       "      <td>20000.000000</td>\n",
       "      <td>20000.000000</td>\n",
       "      <td>20000.000000</td>\n",
       "      <td>20000.000000</td>\n",
       "      <td>20000.000000</td>\n",
       "      <td>20000.000000</td>\n",
       "      <td>20000.000000</td>\n",
       "    </tr>\n",
       "    <tr>\n",
       "      <th>mean</th>\n",
       "      <td>9999.500000</td>\n",
       "      <td>0.395287</td>\n",
       "      <td>18.708788</td>\n",
       "      <td>-1846.175115</td>\n",
       "      <td>0.323992</td>\n",
       "      <td>-3.220560</td>\n",
       "      <td>0.747130</td>\n",
       "      <td>0.655137</td>\n",
       "      <td>0.807200</td>\n",
       "    </tr>\n",
       "    <tr>\n",
       "      <th>std</th>\n",
       "      <td>5773.647028</td>\n",
       "      <td>2.432726</td>\n",
       "      <td>26.185899</td>\n",
       "      <td>3880.385347</td>\n",
       "      <td>70.716614</td>\n",
       "      <td>199.980672</td>\n",
       "      <td>70.720857</td>\n",
       "      <td>0.113237</td>\n",
       "      <td>0.394507</td>\n",
       "    </tr>\n",
       "    <tr>\n",
       "      <th>min</th>\n",
       "      <td>0.000000</td>\n",
       "      <td>-2.913205</td>\n",
       "      <td>1.471492</td>\n",
       "      <td>-9999.999999</td>\n",
       "      <td>-9999.999999</td>\n",
       "      <td>-9999.999999</td>\n",
       "      <td>-9999.999999</td>\n",
       "      <td>0.017008</td>\n",
       "      <td>0.000000</td>\n",
       "    </tr>\n",
       "    <tr>\n",
       "      <th>25%</th>\n",
       "      <td>4999.750000</td>\n",
       "      <td>-1.952929</td>\n",
       "      <td>7.039827</td>\n",
       "      <td>0.292831</td>\n",
       "      <td>0.782718</td>\n",
       "      <td>0.757618</td>\n",
       "      <td>0.979765</td>\n",
       "      <td>0.585356</td>\n",
       "      <td>1.000000</td>\n",
       "    </tr>\n",
       "    <tr>\n",
       "      <th>50%</th>\n",
       "      <td>9999.500000</td>\n",
       "      <td>-0.071197</td>\n",
       "      <td>11.781205</td>\n",
       "      <td>0.365902</td>\n",
       "      <td>0.859172</td>\n",
       "      <td>0.844121</td>\n",
       "      <td>1.364905</td>\n",
       "      <td>0.659603</td>\n",
       "      <td>1.000000</td>\n",
       "    </tr>\n",
       "    <tr>\n",
       "      <th>75%</th>\n",
       "      <td>14999.250000</td>\n",
       "      <td>2.376115</td>\n",
       "      <td>20.920884</td>\n",
       "      <td>0.437227</td>\n",
       "      <td>0.905404</td>\n",
       "      <td>0.889421</td>\n",
       "      <td>1.606039</td>\n",
       "      <td>0.743029</td>\n",
       "      <td>1.000000</td>\n",
       "    </tr>\n",
       "    <tr>\n",
       "      <th>max</th>\n",
       "      <td>19999.000000</td>\n",
       "      <td>7.773612</td>\n",
       "      <td>1035.467764</td>\n",
       "      <td>0.761184</td>\n",
       "      <td>0.986535</td>\n",
       "      <td>0.979032</td>\n",
       "      <td>1.953389</td>\n",
       "      <td>0.929947</td>\n",
       "      <td>1.000000</td>\n",
       "    </tr>\n",
       "  </tbody>\n",
       "</table>\n",
       "</div>"
      ],
      "text/plain": [
       "         Unnamed: 0         TType             K             C             A  \\\n",
       "count  20000.000000  20000.000000  20000.000000  20000.000000  20000.000000   \n",
       "mean    9999.500000      0.395287     18.708788  -1846.175115      0.323992   \n",
       "std     5773.647028      2.432726     26.185899   3880.385347     70.716614   \n",
       "min        0.000000     -2.913205      1.471492  -9999.999999  -9999.999999   \n",
       "25%     4999.750000     -1.952929      7.039827      0.292831      0.782718   \n",
       "50%     9999.500000     -0.071197     11.781205      0.365902      0.859172   \n",
       "75%    14999.250000      2.376115     20.920884      0.437227      0.905404   \n",
       "max    19999.000000      7.773612   1035.467764      0.761184      0.986535   \n",
       "\n",
       "                  S            G2             H  CNN2classes1stClass  \n",
       "count  20000.000000  20000.000000  20000.000000         20000.000000  \n",
       "mean      -3.220560      0.747130      0.655137             0.807200  \n",
       "std      199.980672     70.720857      0.113237             0.394507  \n",
       "min    -9999.999999  -9999.999999      0.017008             0.000000  \n",
       "25%        0.757618      0.979765      0.585356             1.000000  \n",
       "50%        0.844121      1.364905      0.659603             1.000000  \n",
       "75%        0.889421      1.606039      0.743029             1.000000  \n",
       "max        0.979032      1.953389      0.929947             1.000000  "
      ]
     },
     "execution_count": 36,
     "metadata": {},
     "output_type": "execute_result"
    }
   ],
   "source": [
    "df.describe()"
   ]
  },
  {
   "cell_type": "code",
   "execution_count": 37,
   "id": "f085dbde",
   "metadata": {},
   "outputs": [
    {
     "data": {
      "text/plain": [
       "(20000, 9)"
      ]
     },
     "execution_count": 37,
     "metadata": {},
     "output_type": "execute_result"
    }
   ],
   "source": [
    "df.shape"
   ]
  },
  {
   "cell_type": "code",
   "execution_count": 38,
   "id": "3e4bb755",
   "metadata": {},
   "outputs": [
    {
     "data": {
      "text/plain": [
       "Index(['Unnamed: 0', 'TType', 'K', 'C', 'A', 'S', 'G2', 'H',\n",
       "       'CNN2classes1stClass'],\n",
       "      dtype='object')"
      ]
     },
     "execution_count": 38,
     "metadata": {},
     "output_type": "execute_result"
    }
   ],
   "source": [
    "df.columns"
   ]
  },
  {
   "cell_type": "code",
   "execution_count": 39,
   "id": "7fa181ea",
   "metadata": {},
   "outputs": [
    {
     "data": {
      "text/plain": [
       "array([1, 0])"
      ]
     },
     "execution_count": 39,
     "metadata": {},
     "output_type": "execute_result"
    }
   ],
   "source": [
    "df['CNN2classes1stClass'].unique()"
   ]
  },
  {
   "cell_type": "markdown",
   "id": "153df863",
   "metadata": {},
   "source": [
    "# Data Cleaning"
   ]
  },
  {
   "cell_type": "code",
   "execution_count": 40,
   "id": "9969aa07",
   "metadata": {},
   "outputs": [],
   "source": [
    "col_to_use = ['C', 'A', 'S', 'G2', 'H','CNN2classes1stClass']"
   ]
  },
  {
   "cell_type": "code",
   "execution_count": 41,
   "id": "8afc419a",
   "metadata": {},
   "outputs": [
    {
     "data": {
      "text/html": [
       "<div>\n",
       "<style scoped>\n",
       "    .dataframe tbody tr th:only-of-type {\n",
       "        vertical-align: middle;\n",
       "    }\n",
       "\n",
       "    .dataframe tbody tr th {\n",
       "        vertical-align: top;\n",
       "    }\n",
       "\n",
       "    .dataframe thead th {\n",
       "        text-align: right;\n",
       "    }\n",
       "</style>\n",
       "<table border=\"1\" class=\"dataframe\">\n",
       "  <thead>\n",
       "    <tr style=\"text-align: right;\">\n",
       "      <th></th>\n",
       "      <th>C</th>\n",
       "      <th>A</th>\n",
       "      <th>S</th>\n",
       "      <th>G2</th>\n",
       "      <th>H</th>\n",
       "      <th>CNN2classes1stClass</th>\n",
       "    </tr>\n",
       "  </thead>\n",
       "  <tbody>\n",
       "    <tr>\n",
       "      <th>0</th>\n",
       "      <td>0.357051</td>\n",
       "      <td>0.932151</td>\n",
       "      <td>0.850992</td>\n",
       "      <td>1.588183</td>\n",
       "      <td>0.697214</td>\n",
       "      <td>1</td>\n",
       "    </tr>\n",
       "    <tr>\n",
       "      <th>1</th>\n",
       "      <td>0.313292</td>\n",
       "      <td>0.610999</td>\n",
       "      <td>0.723122</td>\n",
       "      <td>1.533653</td>\n",
       "      <td>0.719412</td>\n",
       "      <td>1</td>\n",
       "    </tr>\n",
       "    <tr>\n",
       "      <th>2</th>\n",
       "      <td>0.408286</td>\n",
       "      <td>0.881524</td>\n",
       "      <td>0.813231</td>\n",
       "      <td>1.743747</td>\n",
       "      <td>0.750872</td>\n",
       "      <td>1</td>\n",
       "    </tr>\n",
       "    <tr>\n",
       "      <th>3</th>\n",
       "      <td>-9999.999999</td>\n",
       "      <td>0.838779</td>\n",
       "      <td>0.816965</td>\n",
       "      <td>1.672529</td>\n",
       "      <td>0.771995</td>\n",
       "      <td>1</td>\n",
       "    </tr>\n",
       "    <tr>\n",
       "      <th>4</th>\n",
       "      <td>0.446453</td>\n",
       "      <td>0.839216</td>\n",
       "      <td>0.801140</td>\n",
       "      <td>1.107665</td>\n",
       "      <td>0.610453</td>\n",
       "      <td>1</td>\n",
       "    </tr>\n",
       "  </tbody>\n",
       "</table>\n",
       "</div>"
      ],
      "text/plain": [
       "             C         A         S        G2         H  CNN2classes1stClass\n",
       "0     0.357051  0.932151  0.850992  1.588183  0.697214                    1\n",
       "1     0.313292  0.610999  0.723122  1.533653  0.719412                    1\n",
       "2     0.408286  0.881524  0.813231  1.743747  0.750872                    1\n",
       "3 -9999.999999  0.838779  0.816965  1.672529  0.771995                    1\n",
       "4     0.446453  0.839216  0.801140  1.107665  0.610453                    1"
      ]
     },
     "execution_count": 41,
     "metadata": {},
     "output_type": "execute_result"
    }
   ],
   "source": [
    "df = df[col_to_use]\n",
    "df.head()"
   ]
  },
  {
   "cell_type": "code",
   "execution_count": 42,
   "id": "be294f7e",
   "metadata": {},
   "outputs": [
    {
     "data": {
      "text/plain": [
       "C                      0\n",
       "A                      0\n",
       "S                      0\n",
       "G2                     0\n",
       "H                      0\n",
       "CNN2classes1stClass    0\n",
       "dtype: int64"
      ]
     },
     "execution_count": 42,
     "metadata": {},
     "output_type": "execute_result"
    }
   ],
   "source": [
    "df.isna().sum()"
   ]
  },
  {
   "cell_type": "markdown",
   "id": "8cac9ab1",
   "metadata": {},
   "source": [
    "# Explorasi Data"
   ]
  },
  {
   "cell_type": "code",
   "execution_count": 43,
   "id": "4f9301bf",
   "metadata": {},
   "outputs": [
    {
     "data": {
      "image/png": "[encoded data removed]",
      "text/plain": [
       "<Figure size 720x360 with 2 Axes>"
      ]
     },
     "metadata": {
      "needs_background": "light"
     },
     "output_type": "display_data"
    }
   ],
   "source": [
    "plt.figure(figsize=(10,5))\n",
    "sns.heatmap(df.corr(), annot=True);"
   ]
  },
  {
   "cell_type": "markdown",
   "id": "b387d332",
   "metadata": {},
   "source": [
    "dari visualisasi terlihat bahwa variabel H memiliki korelasi positif dengan variabel CNN2classes1stClass yaitu 0.27"
   ]
  },
  {
   "cell_type": "code",
   "execution_count": 44,
   "id": "0ccc5ef6",
   "metadata": {},
   "outputs": [
    {
     "data": {
      "image/png": "[encoded data removed]",
      "text/plain": [
       "<Figure size 432x288 with 1 Axes>"
      ]
     },
     "metadata": {
      "needs_background": "light"
     },
     "output_type": "display_data"
    }
   ],
   "source": [
    "sns.countplot(x='CNN2classes1stClass', data=df);"
   ]
  },
  {
   "cell_type": "markdown",
   "id": "54cd6277",
   "metadata": {},
   "source": [
    "dari visualisasi terlihat bahwa jumlah galaksi spriral lebih banyak dibandingkan galaksi elips"
   ]
  },
  {
   "cell_type": "markdown",
   "id": "0ea49bb1",
   "metadata": {},
   "source": [
    "# Data Preprocessing"
   ]
  },
  {
   "cell_type": "markdown",
   "id": "0760effb",
   "metadata": {},
   "source": [
    "#### Menentukan variabel independent (X) dan varibel dependent (y)"
   ]
  },
  {
   "cell_type": "code",
   "execution_count": 45,
   "id": "26bedec5",
   "metadata": {},
   "outputs": [],
   "source": [
    "X = df.drop('CNN2classes1stClass', axis=1)\n",
    "y = df['CNN2classes1stClass']"
   ]
  },
  {
   "cell_type": "markdown",
   "id": "a925b854",
   "metadata": {},
   "source": [
    "#### Import pustaka"
   ]
  },
  {
   "cell_type": "code",
   "execution_count": 46,
   "id": "e2cfad7f",
   "metadata": {},
   "outputs": [],
   "source": [
    "from sklearn.svm import SVC\n",
    "from sklearn.preprocessing import StandardScaler\n",
    "from sklearn.model_selection import train_test_split"
   ]
  },
  {
   "cell_type": "markdown",
   "id": "de833c31",
   "metadata": {},
   "source": [
    "#### Split Data"
   ]
  },
  {
   "cell_type": "code",
   "execution_count": 47,
   "id": "4a92483b",
   "metadata": {},
   "outputs": [],
   "source": [
    "X_train, X_test, y_train, y_test = train_test_split(X,y, test_size=0.3, random_state=42)"
   ]
  },
  {
   "cell_type": "markdown",
   "id": "a6d24727",
   "metadata": {},
   "source": [
    "#### Regularisasi Data"
   ]
  },
  {
   "cell_type": "code",
   "execution_count": 48,
   "id": "802e6dbf",
   "metadata": {},
   "outputs": [],
   "source": [
    "scaler = StandardScaler()\n",
    "scaler.fit(X_train)\n",
    "X_train_trf = scaler.transform(X_train)\n",
    "X_test_trf = scaler.transform(X_test)"
   ]
  },
  {
   "cell_type": "markdown",
   "id": "023c8e96",
   "metadata": {},
   "source": [
    "# Pendefinisian Model"
   ]
  },
  {
   "cell_type": "code",
   "execution_count": 49,
   "id": "257f5dd5",
   "metadata": {},
   "outputs": [],
   "source": [
    "model_svc_rbf = SVC(kernel='rbf', random_state=42, C=1)"
   ]
  },
  {
   "cell_type": "markdown",
   "id": "b91eef1f",
   "metadata": {},
   "source": [
    "# Pelatihan Model"
   ]
  },
  {
   "cell_type": "code",
   "execution_count": 50,
   "id": "3658e3e6",
   "metadata": {},
   "outputs": [
    {
     "name": "stdout",
     "output_type": "stream",
     "text": [
      "CPU times: user 16.7 s, sys: 703 ms, total: 17.4 s\n",
      "Wall time: 48 s\n"
     ]
    },
    {
     "data": {
      "text/plain": [
       "SVC(C=1, random_state=42)"
      ]
     },
     "execution_count": 50,
     "metadata": {},
     "output_type": "execute_result"
    }
   ],
   "source": [
    "%time model_svc_rbf.fit(X_train_trf, y_train)"
   ]
  },
  {
   "cell_type": "markdown",
   "id": "5dd29e82",
   "metadata": {},
   "source": [
    "# Evaluasi Model"
   ]
  },
  {
   "cell_type": "markdown",
   "id": "2ea8b409",
   "metadata": {},
   "source": [
    "#### Import pustaka"
   ]
  },
  {
   "cell_type": "code",
   "execution_count": 51,
   "id": "d5e0e350",
   "metadata": {},
   "outputs": [],
   "source": [
    "from sklearn.metrics import confusion_matrix, classification_report, roc_curve, auc, roc_auc_score"
   ]
  },
  {
   "cell_type": "markdown",
   "id": "0ef2cca8",
   "metadata": {},
   "source": [
    "#### Evaluation Classification Metrics SVM RBF"
   ]
  },
  {
   "cell_type": "code",
   "execution_count": 52,
   "id": "e34f9e59",
   "metadata": {},
   "outputs": [
    {
     "name": "stdout",
     "output_type": "stream",
     "text": [
      "CPU times: user 8.45 s, sys: 153 ms, total: 8.6 s\n",
      "Wall time: 13.3 s\n"
     ]
    }
   ],
   "source": [
    "%time y_preds_rbf = model_svc_rbf.predict(X_test_trf)"
   ]
  },
  {
   "cell_type": "code",
   "execution_count": 53,
   "id": "6043b027",
   "metadata": {},
   "outputs": [
    {
     "name": "stdout",
     "output_type": "stream",
     "text": [
      "Classification Report: \n",
      "               precision    recall  f1-score   support\n",
      "\n",
      "           0       0.00      0.00      0.00      1138\n",
      "           1       0.81      1.00      0.90      4862\n",
      "\n",
      "    accuracy                           0.81      6000\n",
      "   macro avg       0.41      0.50      0.45      6000\n",
      "weighted avg       0.66      0.81      0.73      6000\n",
      "\n"
     ]
    },
    {
     "name": "stderr",
     "output_type": "stream",
     "text": [
      "/Users/dody/opt/anaconda3/lib/python3.8/site-packages/sklearn/metrics/_classification.py:1248: UndefinedMetricWarning: Precision and F-score are ill-defined and being set to 0.0 in labels with no predicted samples. Use `zero_division` parameter to control this behavior.\n",
      "  _warn_prf(average, modifier, msg_start, len(result))\n",
      "/Users/dody/opt/anaconda3/lib/python3.8/site-packages/sklearn/metrics/_classification.py:1248: UndefinedMetricWarning: Precision and F-score are ill-defined and being set to 0.0 in labels with no predicted samples. Use `zero_division` parameter to control this behavior.\n",
      "  _warn_prf(average, modifier, msg_start, len(result))\n",
      "/Users/dody/opt/anaconda3/lib/python3.8/site-packages/sklearn/metrics/_classification.py:1248: UndefinedMetricWarning: Precision and F-score are ill-defined and being set to 0.0 in labels with no predicted samples. Use `zero_division` parameter to control this behavior.\n",
      "  _warn_prf(average, modifier, msg_start, len(result))\n"
     ]
    }
   ],
   "source": [
    "print(\"Classification Report: \\n\", classification_report(y_test, y_preds_rbf))"
   ]
  },
  {
   "cell_type": "markdown",
   "id": "bdd93b8d",
   "metadata": {},
   "source": [
    "#### ROC Curve"
   ]
  },
  {
   "cell_type": "code",
   "execution_count": 54,
   "id": "1b8ada33",
   "metadata": {},
   "outputs": [],
   "source": [
    "def plot_roc_curve(fpr, tpr, label=None):\n",
    "    plt.plot(fpr, tpr, linewidth=2, label=label)\n",
    "    plt.plot([0, 1], [0, 1], 'k--') \n",
    "    plt.axis([0, 1, 0, 1])                                    \n",
    "    plt.xlabel('False Positive Rate (Fall-Out)', fontsize=16) \n",
    "    plt.ylabel('True Positive Rate (Recall)', fontsize=16)    \n",
    "    plt.grid(True)  "
   ]
  },
  {
   "cell_type": "code",
   "execution_count": 55,
   "id": "878e2a76",
   "metadata": {},
   "outputs": [
    {
     "data": {
      "image/png": "[encoded data removed]",
      "text/plain": [
       "<Figure size 576x432 with 1 Axes>"
      ]
     },
     "metadata": {
      "needs_background": "light"
     },
     "output_type": "display_data"
    }
   ],
   "source": [
    "plt.figure(figsize=(8, 6))                                    \n",
    "plt.axis([0, 1, 0, 1])                                    \n",
    "plt.xlabel('False Positive Rate (Fall-Out)', fontsize=16) \n",
    "plt.ylabel('True Positive Rate (Recall)', fontsize=16)    \n",
    "plt.grid(True)                                            \n",
    "plt.plot([0, 1], [0, 1], 'k--') \n",
    "labels=['SVM RBF']\n",
    "for idx,model in enumerate([model_svc_rbf]):\n",
    "    y_scores = model.decision_function(X_test_trf)\n",
    "    fpr, tpr, thresholds = roc_curve(y_test, y_scores)\n",
    "    roc_auc = auc(fpr, tpr)\n",
    "    plt.plot(fpr, tpr, linewidth=2,label=labels[idx] + ' ROC curve (area = %0.2f)' % roc_auc)\n",
    "plt.legend(loc=\"lower right\");"
   ]
  },
  {
   "cell_type": "markdown",
   "id": "df8845a3",
   "metadata": {},
   "source": [
    "# Model Inference"
   ]
  },
  {
   "cell_type": "markdown",
   "id": "581d63c0",
   "metadata": {},
   "source": [
    "#### Menggunakan data X_test"
   ]
  },
  {
   "cell_type": "code",
   "execution_count": 56,
   "id": "b34c8f0f",
   "metadata": {},
   "outputs": [
    {
     "data": {
      "text/html": [
       "<div>\n",
       "<style scoped>\n",
       "    .dataframe tbody tr th:only-of-type {\n",
       "        vertical-align: middle;\n",
       "    }\n",
       "\n",
       "    .dataframe tbody tr th {\n",
       "        vertical-align: top;\n",
       "    }\n",
       "\n",
       "    .dataframe thead th {\n",
       "        text-align: right;\n",
       "    }\n",
       "</style>\n",
       "<table border=\"1\" class=\"dataframe\">\n",
       "  <thead>\n",
       "    <tr style=\"text-align: right;\">\n",
       "      <th></th>\n",
       "      <th>C</th>\n",
       "      <th>A</th>\n",
       "      <th>S</th>\n",
       "      <th>G2</th>\n",
       "      <th>H</th>\n",
       "    </tr>\n",
       "  </thead>\n",
       "  <tbody>\n",
       "    <tr>\n",
       "      <th>10650</th>\n",
       "      <td>0.462432</td>\n",
       "      <td>0.805690</td>\n",
       "      <td>0.727739</td>\n",
       "      <td>0.947635</td>\n",
       "      <td>0.566306</td>\n",
       "    </tr>\n",
       "    <tr>\n",
       "      <th>2041</th>\n",
       "      <td>0.394986</td>\n",
       "      <td>0.906583</td>\n",
       "      <td>0.901439</td>\n",
       "      <td>1.306397</td>\n",
       "      <td>0.649844</td>\n",
       "    </tr>\n",
       "    <tr>\n",
       "      <th>8668</th>\n",
       "      <td>0.353135</td>\n",
       "      <td>0.903806</td>\n",
       "      <td>0.894486</td>\n",
       "      <td>0.954305</td>\n",
       "      <td>0.585178</td>\n",
       "    </tr>\n",
       "    <tr>\n",
       "      <th>1114</th>\n",
       "      <td>-9999.999999</td>\n",
       "      <td>0.964645</td>\n",
       "      <td>0.911292</td>\n",
       "      <td>1.139634</td>\n",
       "      <td>0.638086</td>\n",
       "    </tr>\n",
       "    <tr>\n",
       "      <th>13902</th>\n",
       "      <td>0.417160</td>\n",
       "      <td>0.924891</td>\n",
       "      <td>0.886283</td>\n",
       "      <td>1.164970</td>\n",
       "      <td>0.613392</td>\n",
       "    </tr>\n",
       "    <tr>\n",
       "      <th>...</th>\n",
       "      <td>...</td>\n",
       "      <td>...</td>\n",
       "      <td>...</td>\n",
       "      <td>...</td>\n",
       "      <td>...</td>\n",
       "    </tr>\n",
       "    <tr>\n",
       "      <th>4464</th>\n",
       "      <td>-9999.999999</td>\n",
       "      <td>0.905121</td>\n",
       "      <td>0.891138</td>\n",
       "      <td>1.218002</td>\n",
       "      <td>0.605893</td>\n",
       "    </tr>\n",
       "    <tr>\n",
       "      <th>15656</th>\n",
       "      <td>0.293509</td>\n",
       "      <td>0.810863</td>\n",
       "      <td>0.892150</td>\n",
       "      <td>1.772575</td>\n",
       "      <td>0.777545</td>\n",
       "    </tr>\n",
       "    <tr>\n",
       "      <th>19146</th>\n",
       "      <td>-9999.999999</td>\n",
       "      <td>0.948796</td>\n",
       "      <td>0.912726</td>\n",
       "      <td>1.674685</td>\n",
       "      <td>0.742520</td>\n",
       "    </tr>\n",
       "    <tr>\n",
       "      <th>10567</th>\n",
       "      <td>0.245354</td>\n",
       "      <td>0.770584</td>\n",
       "      <td>0.890338</td>\n",
       "      <td>1.786521</td>\n",
       "      <td>0.844014</td>\n",
       "    </tr>\n",
       "    <tr>\n",
       "      <th>9165</th>\n",
       "      <td>-9999.999999</td>\n",
       "      <td>0.813768</td>\n",
       "      <td>0.805566</td>\n",
       "      <td>1.483277</td>\n",
       "      <td>0.675511</td>\n",
       "    </tr>\n",
       "  </tbody>\n",
       "</table>\n",
       "<p>6000 rows × 5 columns</p>\n",
       "</div>"
      ],
      "text/plain": [
       "                 C         A         S        G2         H\n",
       "10650     0.462432  0.805690  0.727739  0.947635  0.566306\n",
       "2041      0.394986  0.906583  0.901439  1.306397  0.649844\n",
       "8668      0.353135  0.903806  0.894486  0.954305  0.585178\n",
       "1114  -9999.999999  0.964645  0.911292  1.139634  0.638086\n",
       "13902     0.417160  0.924891  0.886283  1.164970  0.613392\n",
       "...            ...       ...       ...       ...       ...\n",
       "4464  -9999.999999  0.905121  0.891138  1.218002  0.605893\n",
       "15656     0.293509  0.810863  0.892150  1.772575  0.777545\n",
       "19146 -9999.999999  0.948796  0.912726  1.674685  0.742520\n",
       "10567     0.245354  0.770584  0.890338  1.786521  0.844014\n",
       "9165  -9999.999999  0.813768  0.805566  1.483277  0.675511\n",
       "\n",
       "[6000 rows x 5 columns]"
      ]
     },
     "execution_count": 56,
     "metadata": {},
     "output_type": "execute_result"
    }
   ],
   "source": [
    "X_test"
   ]
  },
  {
   "cell_type": "code",
   "execution_count": 57,
   "id": "fc923727",
   "metadata": {},
   "outputs": [
    {
     "data": {
      "text/plain": [
       "array([1, 1, 1, ..., 1, 1, 1])"
      ]
     },
     "execution_count": 57,
     "metadata": {},
     "output_type": "execute_result"
    }
   ],
   "source": [
    "predictions = model_svc_rbf.predict(X_test)\n",
    "predictions"
   ]
  },
  {
   "cell_type": "markdown",
   "id": "98844cb1",
   "metadata": {},
   "source": [
    "# Pengambilan Keputusan"
   ]
  },
  {
   "cell_type": "markdown",
   "id": "4f283500",
   "metadata": {},
   "source": [
    "Pemilihan Model Classification disebabkan karena objective yang ingin dicapai adalah melakukan klasifikasi terhadap tipe galaksi\n",
    "\n",
    "Dari visualisasi terlihat bahwa jumlah galaksi spriral lebih banyak dibandingkan galaksi elips\n",
    "\n",
    "Dengan menggunakan model SVM dengan kernel 'rbf' diperoleh score:\n",
    "* accureacy:  0.81\n",
    "* ROC curve:  0.72"
   ]
  },
  {
   "cell_type": "code",
   "execution_count": null,
   "id": "8405e5b3",
   "metadata": {},
   "outputs": [],
   "source": []
  }
 ],
 "metadata": {
  "kernelspec": {
   "display_name": "Python 3",
   "language": "python",
   "name": "python3"
  },
  "language_info": {
   "codemirror_mode": {
    "name": "ipython",
    "version": 3
   },
   "file_extension": ".py",
   "mimetype": "text/x-python",
   "name": "python",
   "nbconvert_exporter": "python",
   "pygments_lexer": "ipython3",
   "version": "3.8.5"
  }
 },
 "nbformat": 4,
 "nbformat_minor": 5
}
